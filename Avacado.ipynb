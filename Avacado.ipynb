{
 "cells": [
  {
   "cell_type": "markdown",
   "id": "ffd39a62",
   "metadata": {},
   "source": [
    "# Avacado Project"
   ]
  },
  {
   "cell_type": "raw",
   "id": "8df76137",
   "metadata": {},
   "source": [
    "Problem Statement:\n",
    "Avocado is a fruit consumed by people heavily in the United States. \n",
    "\n",
    "Content\n",
    "This data was downloaded from the Hass Avocado Board website in May of 2018 & compiled into a single CSV. \n",
    "\n",
    "The table below represents weekly 2018 retail scan data for National retail volume (units) and price. Retail scan data comes directly from retailers’ cash registers based on actual retail sales of Hass avocados. \n",
    "\n",
    "Starting in 2013, the table below reflects an expanded, multi-outlet retail data set. Multi-outlet reporting includes an aggregation of the following channels: grocery, mass, club, drug, dollar and military. The Average Price (of avocados) in the table reflects a per unit (per avocado) cost, even when multiple units (avocados) are sold in bags. \n",
    "\n",
    "The Product Lookup codes (PLU’s) in the table are only for Hass avocados. Other varieties of avocados (e.g. greenskins) are not included in this table.\n",
    "\n",
    "Some relevant columns in the dataset:\n",
    "\n",
    "Date - The date of the observation\n",
    "AveragePrice - the average price of a single avocado\n",
    "type - conventional or organic\n",
    "year - the year\n",
    "Region - the city or region of the observation\n",
    "Total Volume - Total number of avocados sold\n",
    "4046 - Total number of avocados with PLU 4046 sold\n",
    "4225 - Total number of avocados with PLU 4225 sold\n",
    "4770 - Total number of avocados with PLU 4770 sold\n",
    "\n",
    "\n",
    "Inspiration /Label \n",
    "\n",
    "The dataset can be seen in two angles to find the region and find the average price .\n",
    "\n",
    "Task: One of Classification and other of Regression"
   ]
  },
  {
   "cell_type": "code",
   "execution_count": null,
   "id": "55052380",
   "metadata": {},
   "outputs": [],
   "source": []
  },
  {
   "cell_type": "code",
   "execution_count": 1,
   "id": "4076373b",
   "metadata": {},
   "outputs": [],
   "source": [
    "#importing important libraries\n",
    "import pandas as pd\n",
    "import numpy as np\n",
    "\n",
    "#Data Visulaziation\n",
    "import seaborn as sns\n",
    "import matplotlib.pyplot as plt\n",
    "%matplotlib inline\n",
    "\n",
    "#Suppress warnings for clean notebook\n",
    "import warnings\n",
    "warnings.filterwarnings('ignore')"
   ]
  },
  {
   "cell_type": "code",
   "execution_count": 2,
   "id": "a98db2c9",
   "metadata": {},
   "outputs": [],
   "source": [
    "#loading our dataset\n",
    "df=pd.read_csv(\"C:\\\\Users\\\\ASUS\\\\Downloads\\\\avocado.csv.zip\")"
   ]
  },
  {
   "cell_type": "code",
   "execution_count": 3,
   "id": "380e3fc4",
   "metadata": {
    "scrolled": true
   },
   "outputs": [
    {
     "data": {
      "text/html": [
       "<div>\n",
       "<style scoped>\n",
       "    .dataframe tbody tr th:only-of-type {\n",
       "        vertical-align: middle;\n",
       "    }\n",
       "\n",
       "    .dataframe tbody tr th {\n",
       "        vertical-align: top;\n",
       "    }\n",
       "\n",
       "    .dataframe thead th {\n",
       "        text-align: right;\n",
       "    }\n",
       "</style>\n",
       "<table border=\"1\" class=\"dataframe\">\n",
       "  <thead>\n",
       "    <tr style=\"text-align: right;\">\n",
       "      <th></th>\n",
       "      <th>Unnamed: 0</th>\n",
       "      <th>Date</th>\n",
       "      <th>AveragePrice</th>\n",
       "      <th>Total Volume</th>\n",
       "      <th>4046</th>\n",
       "      <th>4225</th>\n",
       "      <th>4770</th>\n",
       "      <th>Total Bags</th>\n",
       "      <th>Small Bags</th>\n",
       "      <th>Large Bags</th>\n",
       "      <th>XLarge Bags</th>\n",
       "      <th>type</th>\n",
       "      <th>year</th>\n",
       "      <th>region</th>\n",
       "    </tr>\n",
       "  </thead>\n",
       "  <tbody>\n",
       "    <tr>\n",
       "      <th>0</th>\n",
       "      <td>0</td>\n",
       "      <td>2015-12-27</td>\n",
       "      <td>1.33</td>\n",
       "      <td>64236.62</td>\n",
       "      <td>1036.74</td>\n",
       "      <td>54454.85</td>\n",
       "      <td>48.16</td>\n",
       "      <td>8696.87</td>\n",
       "      <td>8603.62</td>\n",
       "      <td>93.25</td>\n",
       "      <td>0.0</td>\n",
       "      <td>conventional</td>\n",
       "      <td>2015</td>\n",
       "      <td>Albany</td>\n",
       "    </tr>\n",
       "    <tr>\n",
       "      <th>1</th>\n",
       "      <td>1</td>\n",
       "      <td>2015-12-20</td>\n",
       "      <td>1.35</td>\n",
       "      <td>54876.98</td>\n",
       "      <td>674.28</td>\n",
       "      <td>44638.81</td>\n",
       "      <td>58.33</td>\n",
       "      <td>9505.56</td>\n",
       "      <td>9408.07</td>\n",
       "      <td>97.49</td>\n",
       "      <td>0.0</td>\n",
       "      <td>conventional</td>\n",
       "      <td>2015</td>\n",
       "      <td>Albany</td>\n",
       "    </tr>\n",
       "    <tr>\n",
       "      <th>2</th>\n",
       "      <td>2</td>\n",
       "      <td>2015-12-13</td>\n",
       "      <td>0.93</td>\n",
       "      <td>118220.22</td>\n",
       "      <td>794.70</td>\n",
       "      <td>109149.67</td>\n",
       "      <td>130.50</td>\n",
       "      <td>8145.35</td>\n",
       "      <td>8042.21</td>\n",
       "      <td>103.14</td>\n",
       "      <td>0.0</td>\n",
       "      <td>conventional</td>\n",
       "      <td>2015</td>\n",
       "      <td>Albany</td>\n",
       "    </tr>\n",
       "    <tr>\n",
       "      <th>3</th>\n",
       "      <td>3</td>\n",
       "      <td>2015-12-06</td>\n",
       "      <td>1.08</td>\n",
       "      <td>78992.15</td>\n",
       "      <td>1132.00</td>\n",
       "      <td>71976.41</td>\n",
       "      <td>72.58</td>\n",
       "      <td>5811.16</td>\n",
       "      <td>5677.40</td>\n",
       "      <td>133.76</td>\n",
       "      <td>0.0</td>\n",
       "      <td>conventional</td>\n",
       "      <td>2015</td>\n",
       "      <td>Albany</td>\n",
       "    </tr>\n",
       "    <tr>\n",
       "      <th>4</th>\n",
       "      <td>4</td>\n",
       "      <td>2015-11-29</td>\n",
       "      <td>1.28</td>\n",
       "      <td>51039.60</td>\n",
       "      <td>941.48</td>\n",
       "      <td>43838.39</td>\n",
       "      <td>75.78</td>\n",
       "      <td>6183.95</td>\n",
       "      <td>5986.26</td>\n",
       "      <td>197.69</td>\n",
       "      <td>0.0</td>\n",
       "      <td>conventional</td>\n",
       "      <td>2015</td>\n",
       "      <td>Albany</td>\n",
       "    </tr>\n",
       "  </tbody>\n",
       "</table>\n",
       "</div>"
      ],
      "text/plain": [
       "   Unnamed: 0        Date  AveragePrice  Total Volume     4046       4225  \\\n",
       "0           0  2015-12-27          1.33      64236.62  1036.74   54454.85   \n",
       "1           1  2015-12-20          1.35      54876.98   674.28   44638.81   \n",
       "2           2  2015-12-13          0.93     118220.22   794.70  109149.67   \n",
       "3           3  2015-12-06          1.08      78992.15  1132.00   71976.41   \n",
       "4           4  2015-11-29          1.28      51039.60   941.48   43838.39   \n",
       "\n",
       "     4770  Total Bags  Small Bags  Large Bags  XLarge Bags          type  \\\n",
       "0   48.16     8696.87     8603.62       93.25          0.0  conventional   \n",
       "1   58.33     9505.56     9408.07       97.49          0.0  conventional   \n",
       "2  130.50     8145.35     8042.21      103.14          0.0  conventional   \n",
       "3   72.58     5811.16     5677.40      133.76          0.0  conventional   \n",
       "4   75.78     6183.95     5986.26      197.69          0.0  conventional   \n",
       "\n",
       "   year  region  \n",
       "0  2015  Albany  \n",
       "1  2015  Albany  \n",
       "2  2015  Albany  \n",
       "3  2015  Albany  \n",
       "4  2015  Albany  "
      ]
     },
     "execution_count": 3,
     "metadata": {},
     "output_type": "execute_result"
    }
   ],
   "source": [
    "df.head()"
   ]
  },
  {
   "cell_type": "code",
   "execution_count": 4,
   "id": "68dafd15",
   "metadata": {},
   "outputs": [
    {
     "data": {
      "text/plain": [
       "(18249, 14)"
      ]
     },
     "execution_count": 4,
     "metadata": {},
     "output_type": "execute_result"
    }
   ],
   "source": [
    "df.shape"
   ]
  },
  {
   "cell_type": "markdown",
   "id": "57018acd",
   "metadata": {},
   "source": [
    "we have total 18249 Rows and 14 Columns"
   ]
  },
  {
   "cell_type": "code",
   "execution_count": 5,
   "id": "79147af2",
   "metadata": {},
   "outputs": [],
   "source": [
    "#droping \"Unnamed: 0\" column,because it is unnecesary\n",
    "df.drop(['Unnamed: 0','year'],axis=1,inplace=True)"
   ]
  },
  {
   "cell_type": "code",
   "execution_count": 6,
   "id": "858bf2c9",
   "metadata": {},
   "outputs": [
    {
     "data": {
      "text/html": [
       "<div>\n",
       "<style scoped>\n",
       "    .dataframe tbody tr th:only-of-type {\n",
       "        vertical-align: middle;\n",
       "    }\n",
       "\n",
       "    .dataframe tbody tr th {\n",
       "        vertical-align: top;\n",
       "    }\n",
       "\n",
       "    .dataframe thead th {\n",
       "        text-align: right;\n",
       "    }\n",
       "</style>\n",
       "<table border=\"1\" class=\"dataframe\">\n",
       "  <thead>\n",
       "    <tr style=\"text-align: right;\">\n",
       "      <th></th>\n",
       "      <th>Date</th>\n",
       "      <th>AveragePrice</th>\n",
       "      <th>Total Volume</th>\n",
       "      <th>4046</th>\n",
       "      <th>4225</th>\n",
       "      <th>4770</th>\n",
       "      <th>Total Bags</th>\n",
       "      <th>Small Bags</th>\n",
       "      <th>Large Bags</th>\n",
       "      <th>XLarge Bags</th>\n",
       "      <th>type</th>\n",
       "      <th>region</th>\n",
       "    </tr>\n",
       "  </thead>\n",
       "  <tbody>\n",
       "    <tr>\n",
       "      <th>0</th>\n",
       "      <td>2015-12-27</td>\n",
       "      <td>1.33</td>\n",
       "      <td>64236.62</td>\n",
       "      <td>1036.74</td>\n",
       "      <td>54454.85</td>\n",
       "      <td>48.16</td>\n",
       "      <td>8696.87</td>\n",
       "      <td>8603.62</td>\n",
       "      <td>93.25</td>\n",
       "      <td>0.0</td>\n",
       "      <td>conventional</td>\n",
       "      <td>Albany</td>\n",
       "    </tr>\n",
       "    <tr>\n",
       "      <th>1</th>\n",
       "      <td>2015-12-20</td>\n",
       "      <td>1.35</td>\n",
       "      <td>54876.98</td>\n",
       "      <td>674.28</td>\n",
       "      <td>44638.81</td>\n",
       "      <td>58.33</td>\n",
       "      <td>9505.56</td>\n",
       "      <td>9408.07</td>\n",
       "      <td>97.49</td>\n",
       "      <td>0.0</td>\n",
       "      <td>conventional</td>\n",
       "      <td>Albany</td>\n",
       "    </tr>\n",
       "    <tr>\n",
       "      <th>2</th>\n",
       "      <td>2015-12-13</td>\n",
       "      <td>0.93</td>\n",
       "      <td>118220.22</td>\n",
       "      <td>794.70</td>\n",
       "      <td>109149.67</td>\n",
       "      <td>130.50</td>\n",
       "      <td>8145.35</td>\n",
       "      <td>8042.21</td>\n",
       "      <td>103.14</td>\n",
       "      <td>0.0</td>\n",
       "      <td>conventional</td>\n",
       "      <td>Albany</td>\n",
       "    </tr>\n",
       "    <tr>\n",
       "      <th>3</th>\n",
       "      <td>2015-12-06</td>\n",
       "      <td>1.08</td>\n",
       "      <td>78992.15</td>\n",
       "      <td>1132.00</td>\n",
       "      <td>71976.41</td>\n",
       "      <td>72.58</td>\n",
       "      <td>5811.16</td>\n",
       "      <td>5677.40</td>\n",
       "      <td>133.76</td>\n",
       "      <td>0.0</td>\n",
       "      <td>conventional</td>\n",
       "      <td>Albany</td>\n",
       "    </tr>\n",
       "    <tr>\n",
       "      <th>4</th>\n",
       "      <td>2015-11-29</td>\n",
       "      <td>1.28</td>\n",
       "      <td>51039.60</td>\n",
       "      <td>941.48</td>\n",
       "      <td>43838.39</td>\n",
       "      <td>75.78</td>\n",
       "      <td>6183.95</td>\n",
       "      <td>5986.26</td>\n",
       "      <td>197.69</td>\n",
       "      <td>0.0</td>\n",
       "      <td>conventional</td>\n",
       "      <td>Albany</td>\n",
       "    </tr>\n",
       "  </tbody>\n",
       "</table>\n",
       "</div>"
      ],
      "text/plain": [
       "         Date  AveragePrice  Total Volume     4046       4225    4770  \\\n",
       "0  2015-12-27          1.33      64236.62  1036.74   54454.85   48.16   \n",
       "1  2015-12-20          1.35      54876.98   674.28   44638.81   58.33   \n",
       "2  2015-12-13          0.93     118220.22   794.70  109149.67  130.50   \n",
       "3  2015-12-06          1.08      78992.15  1132.00   71976.41   72.58   \n",
       "4  2015-11-29          1.28      51039.60   941.48   43838.39   75.78   \n",
       "\n",
       "   Total Bags  Small Bags  Large Bags  XLarge Bags          type  region  \n",
       "0     8696.87     8603.62       93.25          0.0  conventional  Albany  \n",
       "1     9505.56     9408.07       97.49          0.0  conventional  Albany  \n",
       "2     8145.35     8042.21      103.14          0.0  conventional  Albany  \n",
       "3     5811.16     5677.40      133.76          0.0  conventional  Albany  \n",
       "4     6183.95     5986.26      197.69          0.0  conventional  Albany  "
      ]
     },
     "execution_count": 6,
     "metadata": {},
     "output_type": "execute_result"
    }
   ],
   "source": [
    "df.head()"
   ]
  },
  {
   "cell_type": "code",
   "execution_count": 7,
   "id": "64b9c06c",
   "metadata": {},
   "outputs": [
    {
     "data": {
      "text/plain": [
       "(18249, 12)"
      ]
     },
     "execution_count": 7,
     "metadata": {},
     "output_type": "execute_result"
    }
   ],
   "source": [
    "#again checking the total number of rows and columns\n",
    "df.shape"
   ]
  },
  {
   "cell_type": "code",
   "execution_count": 8,
   "id": "62e604e8",
   "metadata": {},
   "outputs": [],
   "source": [
    "#Let's change the Date dtype to datetime series\n",
    "\n",
    "df['Date']=pd.to_datetime(df['Date'])"
   ]
  },
  {
   "cell_type": "code",
   "execution_count": 9,
   "id": "484b7530",
   "metadata": {},
   "outputs": [],
   "source": [
    "#Lets extract the year and month from the Date for better visulatization\n",
    "\n",
    "df['Year']=df['Date'].dt.year\n",
    "df['Month']=df['Date'].dt.month\n",
    "df.Month = df.Month.map({1:'1',2:'2',3:'3',4:'4',5:'5',6:'6',7:'7',8:'8',9:'9',10:'10',11:'11',12:'12'})\n",
    "df['Day']=df['Date'].dt.day"
   ]
  },
  {
   "cell_type": "markdown",
   "id": "80888ec6",
   "metadata": {},
   "source": [
    "We have splitted the date column in day, month and year for better visualization and EDA"
   ]
  },
  {
   "cell_type": "code",
   "execution_count": 10,
   "id": "115795d5",
   "metadata": {},
   "outputs": [
    {
     "data": {
      "text/plain": [
       "array(['Date', 'AveragePrice', 'Total Volume', '4046', '4225', '4770',\n",
       "       'Total Bags', 'Small Bags', 'Large Bags', 'XLarge Bags', 'type',\n",
       "       'region', 'Year', 'Month', 'Day'], dtype=object)"
      ]
     },
     "execution_count": 10,
     "metadata": {},
     "output_type": "execute_result"
    }
   ],
   "source": [
    "#checking columns tittle\n",
    "df.columns.values"
   ]
  },
  {
   "cell_type": "code",
   "execution_count": 11,
   "id": "548ecd96",
   "metadata": {},
   "outputs": [
    {
     "data": {
      "text/plain": [
       "['Date',\n",
       " 'AveragePrice',\n",
       " 'Total Volume',\n",
       " '4046',\n",
       " '4225',\n",
       " '4770',\n",
       " 'Total Bags',\n",
       " 'Small Bags',\n",
       " 'Large Bags',\n",
       " 'XLarge Bags',\n",
       " 'type',\n",
       " 'region',\n",
       " 'Year',\n",
       " 'Month',\n",
       " 'Day']"
      ]
     },
     "execution_count": 11,
     "metadata": {},
     "output_type": "execute_result"
    }
   ],
   "source": [
    "columns_names=(['Date', 'AveragePrice', 'Total Volume', '4046', '4225', '4770',\n",
    "       'Total Bags', 'Small Bags', 'Large Bags', 'XLarge Bags', 'type', 'region', 'Year', 'Month', 'Day'])\n",
    "columns_names"
   ]
  },
  {
   "cell_type": "code",
   "execution_count": 12,
   "id": "71e1027d",
   "metadata": {},
   "outputs": [
    {
     "data": {
      "text/plain": [
       "['Date',\n",
       " 'Month',\n",
       " 'Year',\n",
       " 'region',\n",
       " 'AveragePrice',\n",
       " 'Total Volume',\n",
       " '4046',\n",
       " '4225',\n",
       " '4770',\n",
       " 'Total Bags',\n",
       " 'Small Bags',\n",
       " 'Large Bags',\n",
       " 'XLarge Bags',\n",
       " 'type',\n",
       " 'Day']"
      ]
     },
     "execution_count": 12,
     "metadata": {},
     "output_type": "execute_result"
    }
   ],
   "source": [
    "#Let's Rearrange the columns in our data set for better presenation\n",
    "\n",
    "columns_names[0],columns_names[1],columns_names[2],columns_names[3],columns_names[4],columns_names[5],columns_names[6],columns_names[7],columns_names[8],columns_names[9],columns_names[10],columns_names[11],columns_names[12],columns_names[13]=columns_names[0],columns_names[13],columns_names[12],columns_names[11],columns_names[1],columns_names[2],columns_names[3],columns_names[4],columns_names[5],columns_names[6],columns_names[7],columns_names[8],columns_names[9],columns_names[10]\n",
    "columns_names"
   ]
  },
  {
   "cell_type": "code",
   "execution_count": 13,
   "id": "6baa411f",
   "metadata": {},
   "outputs": [
    {
     "data": {
      "text/html": [
       "<div>\n",
       "<style scoped>\n",
       "    .dataframe tbody tr th:only-of-type {\n",
       "        vertical-align: middle;\n",
       "    }\n",
       "\n",
       "    .dataframe tbody tr th {\n",
       "        vertical-align: top;\n",
       "    }\n",
       "\n",
       "    .dataframe thead th {\n",
       "        text-align: right;\n",
       "    }\n",
       "</style>\n",
       "<table border=\"1\" class=\"dataframe\">\n",
       "  <thead>\n",
       "    <tr style=\"text-align: right;\">\n",
       "      <th></th>\n",
       "      <th>Date</th>\n",
       "      <th>Month</th>\n",
       "      <th>Year</th>\n",
       "      <th>region</th>\n",
       "      <th>AveragePrice</th>\n",
       "      <th>Total Volume</th>\n",
       "      <th>4046</th>\n",
       "      <th>4225</th>\n",
       "      <th>4770</th>\n",
       "      <th>Total Bags</th>\n",
       "      <th>Small Bags</th>\n",
       "      <th>Large Bags</th>\n",
       "      <th>XLarge Bags</th>\n",
       "      <th>type</th>\n",
       "      <th>Day</th>\n",
       "    </tr>\n",
       "  </thead>\n",
       "  <tbody>\n",
       "    <tr>\n",
       "      <th>0</th>\n",
       "      <td>2015-12-27</td>\n",
       "      <td>12</td>\n",
       "      <td>2015</td>\n",
       "      <td>Albany</td>\n",
       "      <td>1.33</td>\n",
       "      <td>64236.62</td>\n",
       "      <td>1036.74</td>\n",
       "      <td>54454.85</td>\n",
       "      <td>48.16</td>\n",
       "      <td>8696.87</td>\n",
       "      <td>8603.62</td>\n",
       "      <td>93.25</td>\n",
       "      <td>0.0</td>\n",
       "      <td>conventional</td>\n",
       "      <td>27</td>\n",
       "    </tr>\n",
       "    <tr>\n",
       "      <th>1</th>\n",
       "      <td>2015-12-20</td>\n",
       "      <td>12</td>\n",
       "      <td>2015</td>\n",
       "      <td>Albany</td>\n",
       "      <td>1.35</td>\n",
       "      <td>54876.98</td>\n",
       "      <td>674.28</td>\n",
       "      <td>44638.81</td>\n",
       "      <td>58.33</td>\n",
       "      <td>9505.56</td>\n",
       "      <td>9408.07</td>\n",
       "      <td>97.49</td>\n",
       "      <td>0.0</td>\n",
       "      <td>conventional</td>\n",
       "      <td>20</td>\n",
       "    </tr>\n",
       "    <tr>\n",
       "      <th>2</th>\n",
       "      <td>2015-12-13</td>\n",
       "      <td>12</td>\n",
       "      <td>2015</td>\n",
       "      <td>Albany</td>\n",
       "      <td>0.93</td>\n",
       "      <td>118220.22</td>\n",
       "      <td>794.70</td>\n",
       "      <td>109149.67</td>\n",
       "      <td>130.50</td>\n",
       "      <td>8145.35</td>\n",
       "      <td>8042.21</td>\n",
       "      <td>103.14</td>\n",
       "      <td>0.0</td>\n",
       "      <td>conventional</td>\n",
       "      <td>13</td>\n",
       "    </tr>\n",
       "    <tr>\n",
       "      <th>3</th>\n",
       "      <td>2015-12-06</td>\n",
       "      <td>12</td>\n",
       "      <td>2015</td>\n",
       "      <td>Albany</td>\n",
       "      <td>1.08</td>\n",
       "      <td>78992.15</td>\n",
       "      <td>1132.00</td>\n",
       "      <td>71976.41</td>\n",
       "      <td>72.58</td>\n",
       "      <td>5811.16</td>\n",
       "      <td>5677.40</td>\n",
       "      <td>133.76</td>\n",
       "      <td>0.0</td>\n",
       "      <td>conventional</td>\n",
       "      <td>6</td>\n",
       "    </tr>\n",
       "    <tr>\n",
       "      <th>4</th>\n",
       "      <td>2015-11-29</td>\n",
       "      <td>11</td>\n",
       "      <td>2015</td>\n",
       "      <td>Albany</td>\n",
       "      <td>1.28</td>\n",
       "      <td>51039.60</td>\n",
       "      <td>941.48</td>\n",
       "      <td>43838.39</td>\n",
       "      <td>75.78</td>\n",
       "      <td>6183.95</td>\n",
       "      <td>5986.26</td>\n",
       "      <td>197.69</td>\n",
       "      <td>0.0</td>\n",
       "      <td>conventional</td>\n",
       "      <td>29</td>\n",
       "    </tr>\n",
       "  </tbody>\n",
       "</table>\n",
       "</div>"
      ],
      "text/plain": [
       "        Date Month  Year  region  AveragePrice  Total Volume     4046  \\\n",
       "0 2015-12-27    12  2015  Albany          1.33      64236.62  1036.74   \n",
       "1 2015-12-20    12  2015  Albany          1.35      54876.98   674.28   \n",
       "2 2015-12-13    12  2015  Albany          0.93     118220.22   794.70   \n",
       "3 2015-12-06    12  2015  Albany          1.08      78992.15  1132.00   \n",
       "4 2015-11-29    11  2015  Albany          1.28      51039.60   941.48   \n",
       "\n",
       "        4225    4770  Total Bags  Small Bags  Large Bags  XLarge Bags  \\\n",
       "0   54454.85   48.16     8696.87     8603.62       93.25          0.0   \n",
       "1   44638.81   58.33     9505.56     9408.07       97.49          0.0   \n",
       "2  109149.67  130.50     8145.35     8042.21      103.14          0.0   \n",
       "3   71976.41   72.58     5811.16     5677.40      133.76          0.0   \n",
       "4   43838.39   75.78     6183.95     5986.26      197.69          0.0   \n",
       "\n",
       "           type  Day  \n",
       "0  conventional   27  \n",
       "1  conventional   20  \n",
       "2  conventional   13  \n",
       "3  conventional    6  \n",
       "4  conventional   29  "
      ]
     },
     "execution_count": 13,
     "metadata": {},
     "output_type": "execute_result"
    }
   ],
   "source": [
    "df=df[columns_names]\n",
    "df.head(5)"
   ]
  },
  {
   "cell_type": "code",
   "execution_count": 14,
   "id": "54c47ec9",
   "metadata": {},
   "outputs": [],
   "source": [
    "#Let's drop the date column\n",
    "\n",
    "df.drop(['Date'],axis=1,inplace=True)"
   ]
  },
  {
   "cell_type": "code",
   "execution_count": 15,
   "id": "6e5d9a50",
   "metadata": {},
   "outputs": [
    {
     "name": "stdout",
     "output_type": "stream",
     "text": [
      "<class 'pandas.core.frame.DataFrame'>\n",
      "RangeIndex: 18249 entries, 0 to 18248\n",
      "Data columns (total 14 columns):\n",
      " #   Column        Non-Null Count  Dtype  \n",
      "---  ------        --------------  -----  \n",
      " 0   Month         18249 non-null  object \n",
      " 1   Year          18249 non-null  int64  \n",
      " 2   region        18249 non-null  object \n",
      " 3   AveragePrice  18249 non-null  float64\n",
      " 4   Total Volume  18249 non-null  float64\n",
      " 5   4046          18249 non-null  float64\n",
      " 6   4225          18249 non-null  float64\n",
      " 7   4770          18249 non-null  float64\n",
      " 8   Total Bags    18249 non-null  float64\n",
      " 9   Small Bags    18249 non-null  float64\n",
      " 10  Large Bags    18249 non-null  float64\n",
      " 11  XLarge Bags   18249 non-null  float64\n",
      " 12  type          18249 non-null  object \n",
      " 13  Day           18249 non-null  int64  \n",
      "dtypes: float64(9), int64(2), object(3)\n",
      "memory usage: 1.9+ MB\n"
     ]
    }
   ],
   "source": [
    "#Let's check the dtypes of our data set\n",
    "\n",
    "df.info()"
   ]
  },
  {
   "cell_type": "code",
   "execution_count": 16,
   "id": "59ae4192",
   "metadata": {},
   "outputs": [
    {
     "data": {
      "text/plain": [
       "(18249, 14)"
      ]
     },
     "execution_count": 16,
     "metadata": {},
     "output_type": "execute_result"
    }
   ],
   "source": [
    "#Let's check the shape of our cleaned data set\n",
    "\n",
    "df.shape"
   ]
  },
  {
   "cell_type": "code",
   "execution_count": 17,
   "id": "3a6e7e12",
   "metadata": {},
   "outputs": [
    {
     "data": {
      "text/plain": [
       "Month           0\n",
       "Year            0\n",
       "region          0\n",
       "AveragePrice    0\n",
       "Total Volume    0\n",
       "4046            0\n",
       "4225            0\n",
       "4770            0\n",
       "Total Bags      0\n",
       "Small Bags      0\n",
       "Large Bags      0\n",
       "XLarge Bags     0\n",
       "type            0\n",
       "Day             0\n",
       "dtype: int64"
      ]
     },
     "execution_count": 17,
     "metadata": {},
     "output_type": "execute_result"
    }
   ],
   "source": [
    "#Let's check for null values in the data set\n",
    "\n",
    "df.isnull().sum()"
   ]
  },
  {
   "cell_type": "code",
   "execution_count": 18,
   "id": "ce1a3eaa",
   "metadata": {},
   "outputs": [
    {
     "data": {
      "text/plain": [
       "Month            object\n",
       "Year              int64\n",
       "region           object\n",
       "AveragePrice    float64\n",
       "Total Volume    float64\n",
       "4046            float64\n",
       "4225            float64\n",
       "4770            float64\n",
       "Total Bags      float64\n",
       "Small Bags      float64\n",
       "Large Bags      float64\n",
       "XLarge Bags     float64\n",
       "type             object\n",
       "Day               int64\n",
       "dtype: object"
      ]
     },
     "execution_count": 18,
     "metadata": {},
     "output_type": "execute_result"
    }
   ],
   "source": [
    "#checking data type\n",
    "df.dtypes"
   ]
  },
  {
   "cell_type": "markdown",
   "id": "2cb1a791",
   "metadata": {},
   "source": [
    "most of the column are of same data type that is float and Date, type and region is of object data type."
   ]
  },
  {
   "cell_type": "code",
   "execution_count": 19,
   "id": "72aab02f",
   "metadata": {},
   "outputs": [
    {
     "data": {
      "text/plain": [
       "<AxesSubplot:>"
      ]
     },
     "execution_count": 19,
     "metadata": {},
     "output_type": "execute_result"
    },
    {
     "data": {
      "image/png": "[encoded data removed]",
      "text/plain": [
       "<Figure size 432x288 with 2 Axes>"
      ]
     },
     "metadata": {
      "needs_background": "light"
     },
     "output_type": "display_data"
    }
   ],
   "source": [
    "#checking null values using heatmap\n",
    "sns.heatmap(df.isnull())"
   ]
  },
  {
   "cell_type": "markdown",
   "id": "21f91db8",
   "metadata": {},
   "source": [
    "there are no null values in the data set because the red color is distributed equally correspond to each column."
   ]
  },
  {
   "cell_type": "code",
   "execution_count": 20,
   "id": "46b16ed8",
   "metadata": {},
   "outputs": [
    {
     "data": {
      "text/plain": [
       "Year  type        \n",
       "2015  conventional    2808\n",
       "      organic         2807\n",
       "2016  conventional    2808\n",
       "      organic         2808\n",
       "2017  conventional    2862\n",
       "      organic         2860\n",
       "2018  conventional     648\n",
       "      organic          648\n",
       "Name: type, dtype: int64"
      ]
     },
     "execution_count": 20,
     "metadata": {},
     "output_type": "execute_result"
    }
   ],
   "source": [
    "#finding how much type of avacado is sell in last 4 years\n",
    "df.groupby('Year')['type'].value_counts()"
   ]
  },
  {
   "cell_type": "markdown",
   "id": "203c9286",
   "metadata": {},
   "source": [
    "year 2017 is aggressive year where avocado price is higher as compared to other year and 2015 is at second number."
   ]
  },
  {
   "cell_type": "code",
   "execution_count": 21,
   "id": "f77ab0e1",
   "metadata": {},
   "outputs": [
    {
     "data": {
      "text/html": [
       "<div>\n",
       "<style scoped>\n",
       "    .dataframe tbody tr th:only-of-type {\n",
       "        vertical-align: middle;\n",
       "    }\n",
       "\n",
       "    .dataframe tbody tr th {\n",
       "        vertical-align: top;\n",
       "    }\n",
       "\n",
       "    .dataframe thead th {\n",
       "        text-align: right;\n",
       "    }\n",
       "</style>\n",
       "<table border=\"1\" class=\"dataframe\">\n",
       "  <thead>\n",
       "    <tr style=\"text-align: right;\">\n",
       "      <th></th>\n",
       "      <th>Year</th>\n",
       "      <th>AveragePrice</th>\n",
       "      <th>Total Volume</th>\n",
       "      <th>4046</th>\n",
       "      <th>4225</th>\n",
       "      <th>4770</th>\n",
       "      <th>Total Bags</th>\n",
       "      <th>Small Bags</th>\n",
       "      <th>Large Bags</th>\n",
       "      <th>XLarge Bags</th>\n",
       "      <th>Day</th>\n",
       "    </tr>\n",
       "  </thead>\n",
       "  <tbody>\n",
       "    <tr>\n",
       "      <th>count</th>\n",
       "      <td>18249.000000</td>\n",
       "      <td>18249.000000</td>\n",
       "      <td>1.824900e+04</td>\n",
       "      <td>1.824900e+04</td>\n",
       "      <td>1.824900e+04</td>\n",
       "      <td>1.824900e+04</td>\n",
       "      <td>1.824900e+04</td>\n",
       "      <td>1.824900e+04</td>\n",
       "      <td>1.824900e+04</td>\n",
       "      <td>18249.000000</td>\n",
       "      <td>18249.000000</td>\n",
       "    </tr>\n",
       "    <tr>\n",
       "      <th>mean</th>\n",
       "      <td>2016.147899</td>\n",
       "      <td>1.405978</td>\n",
       "      <td>8.506440e+05</td>\n",
       "      <td>2.930084e+05</td>\n",
       "      <td>2.951546e+05</td>\n",
       "      <td>2.283974e+04</td>\n",
       "      <td>2.396392e+05</td>\n",
       "      <td>1.821947e+05</td>\n",
       "      <td>5.433809e+04</td>\n",
       "      <td>3106.426507</td>\n",
       "      <td>15.662612</td>\n",
       "    </tr>\n",
       "    <tr>\n",
       "      <th>std</th>\n",
       "      <td>0.939938</td>\n",
       "      <td>0.402677</td>\n",
       "      <td>3.453545e+06</td>\n",
       "      <td>1.264989e+06</td>\n",
       "      <td>1.204120e+06</td>\n",
       "      <td>1.074641e+05</td>\n",
       "      <td>9.862424e+05</td>\n",
       "      <td>7.461785e+05</td>\n",
       "      <td>2.439660e+05</td>\n",
       "      <td>17692.894652</td>\n",
       "      <td>8.776281</td>\n",
       "    </tr>\n",
       "    <tr>\n",
       "      <th>min</th>\n",
       "      <td>2015.000000</td>\n",
       "      <td>0.440000</td>\n",
       "      <td>8.456000e+01</td>\n",
       "      <td>0.000000e+00</td>\n",
       "      <td>0.000000e+00</td>\n",
       "      <td>0.000000e+00</td>\n",
       "      <td>0.000000e+00</td>\n",
       "      <td>0.000000e+00</td>\n",
       "      <td>0.000000e+00</td>\n",
       "      <td>0.000000</td>\n",
       "      <td>1.000000</td>\n",
       "    </tr>\n",
       "    <tr>\n",
       "      <th>25%</th>\n",
       "      <td>2015.000000</td>\n",
       "      <td>1.100000</td>\n",
       "      <td>1.083858e+04</td>\n",
       "      <td>8.540700e+02</td>\n",
       "      <td>3.008780e+03</td>\n",
       "      <td>0.000000e+00</td>\n",
       "      <td>5.088640e+03</td>\n",
       "      <td>2.849420e+03</td>\n",
       "      <td>1.274700e+02</td>\n",
       "      <td>0.000000</td>\n",
       "      <td>8.000000</td>\n",
       "    </tr>\n",
       "    <tr>\n",
       "      <th>50%</th>\n",
       "      <td>2016.000000</td>\n",
       "      <td>1.370000</td>\n",
       "      <td>1.073768e+05</td>\n",
       "      <td>8.645300e+03</td>\n",
       "      <td>2.906102e+04</td>\n",
       "      <td>1.849900e+02</td>\n",
       "      <td>3.974383e+04</td>\n",
       "      <td>2.636282e+04</td>\n",
       "      <td>2.647710e+03</td>\n",
       "      <td>0.000000</td>\n",
       "      <td>16.000000</td>\n",
       "    </tr>\n",
       "    <tr>\n",
       "      <th>75%</th>\n",
       "      <td>2017.000000</td>\n",
       "      <td>1.660000</td>\n",
       "      <td>4.329623e+05</td>\n",
       "      <td>1.110202e+05</td>\n",
       "      <td>1.502069e+05</td>\n",
       "      <td>6.243420e+03</td>\n",
       "      <td>1.107834e+05</td>\n",
       "      <td>8.333767e+04</td>\n",
       "      <td>2.202925e+04</td>\n",
       "      <td>132.500000</td>\n",
       "      <td>23.000000</td>\n",
       "    </tr>\n",
       "    <tr>\n",
       "      <th>max</th>\n",
       "      <td>2018.000000</td>\n",
       "      <td>3.250000</td>\n",
       "      <td>6.250565e+07</td>\n",
       "      <td>2.274362e+07</td>\n",
       "      <td>2.047057e+07</td>\n",
       "      <td>2.546439e+06</td>\n",
       "      <td>1.937313e+07</td>\n",
       "      <td>1.338459e+07</td>\n",
       "      <td>5.719097e+06</td>\n",
       "      <td>551693.650000</td>\n",
       "      <td>31.000000</td>\n",
       "    </tr>\n",
       "  </tbody>\n",
       "</table>\n",
       "</div>"
      ],
      "text/plain": [
       "               Year  AveragePrice  Total Volume          4046          4225  \\\n",
       "count  18249.000000  18249.000000  1.824900e+04  1.824900e+04  1.824900e+04   \n",
       "mean    2016.147899      1.405978  8.506440e+05  2.930084e+05  2.951546e+05   \n",
       "std        0.939938      0.402677  3.453545e+06  1.264989e+06  1.204120e+06   \n",
       "min     2015.000000      0.440000  8.456000e+01  0.000000e+00  0.000000e+00   \n",
       "25%     2015.000000      1.100000  1.083858e+04  8.540700e+02  3.008780e+03   \n",
       "50%     2016.000000      1.370000  1.073768e+05  8.645300e+03  2.906102e+04   \n",
       "75%     2017.000000      1.660000  4.329623e+05  1.110202e+05  1.502069e+05   \n",
       "max     2018.000000      3.250000  6.250565e+07  2.274362e+07  2.047057e+07   \n",
       "\n",
       "               4770    Total Bags    Small Bags    Large Bags    XLarge Bags  \\\n",
       "count  1.824900e+04  1.824900e+04  1.824900e+04  1.824900e+04   18249.000000   \n",
       "mean   2.283974e+04  2.396392e+05  1.821947e+05  5.433809e+04    3106.426507   \n",
       "std    1.074641e+05  9.862424e+05  7.461785e+05  2.439660e+05   17692.894652   \n",
       "min    0.000000e+00  0.000000e+00  0.000000e+00  0.000000e+00       0.000000   \n",
       "25%    0.000000e+00  5.088640e+03  2.849420e+03  1.274700e+02       0.000000   \n",
       "50%    1.849900e+02  3.974383e+04  2.636282e+04  2.647710e+03       0.000000   \n",
       "75%    6.243420e+03  1.107834e+05  8.333767e+04  2.202925e+04     132.500000   \n",
       "max    2.546439e+06  1.937313e+07  1.338459e+07  5.719097e+06  551693.650000   \n",
       "\n",
       "                Day  \n",
       "count  18249.000000  \n",
       "mean      15.662612  \n",
       "std        8.776281  \n",
       "min        1.000000  \n",
       "25%        8.000000  \n",
       "50%       16.000000  \n",
       "75%       23.000000  \n",
       "max       31.000000  "
      ]
     },
     "execution_count": 21,
     "metadata": {},
     "output_type": "execute_result"
    }
   ],
   "source": [
    "#Let's check the statistics metrics\n",
    "\n",
    "df.describe()"
   ]
  },
  {
   "cell_type": "markdown",
   "id": "dde1c40f",
   "metadata": {},
   "source": [
    "# Data Visualization"
   ]
  },
  {
   "cell_type": "code",
   "execution_count": 22,
   "id": "1c1075db",
   "metadata": {},
   "outputs": [
    {
     "data": {
      "text/plain": [
       "<AxesSubplot:xlabel='Year', ylabel='AveragePrice'>"
      ]
     },
     "execution_count": 22,
     "metadata": {},
     "output_type": "execute_result"
    },
    {
     "data": {
      "image/png": "[encoded data removed]",
      "text/plain": [
       "<Figure size 432x288 with 1 Axes>"
      ]
     },
     "metadata": {
      "needs_background": "light"
     },
     "output_type": "display_data"
    }
   ],
   "source": [
    "#checking ratio of the year and the price that which year had max average price\n",
    "sns.barplot(x= \"Year\" , y= \"AveragePrice\", data=df)"
   ]
  },
  {
   "cell_type": "markdown",
   "id": "6263807d",
   "metadata": {},
   "source": [
    "Year 2017 is that year where the price is maximum as compared to other year"
   ]
  },
  {
   "cell_type": "code",
   "execution_count": 23,
   "id": "9a0daa42",
   "metadata": {},
   "outputs": [
    {
     "data": {
      "text/plain": [
       "<AxesSubplot:xlabel='Month', ylabel='AveragePrice'>"
      ]
     },
     "execution_count": 23,
     "metadata": {},
     "output_type": "execute_result"
    },
    {
     "data": {
      "image/png": "[encoded data removed]",
      "text/plain": [
       "<Figure size 432x288 with 1 Axes>"
      ]
     },
     "metadata": {
      "needs_background": "light"
     },
     "output_type": "display_data"
    }
   ],
   "source": [
    "#checking ratio of the month and the price that which month had max average price\n",
    "sns.barplot(x= \"Month\" , y= \"AveragePrice\", data=df)"
   ]
  },
  {
   "cell_type": "markdown",
   "id": "7e5e3cda",
   "metadata": {},
   "source": [
    "September and October are the month where max no of average price is there"
   ]
  },
  {
   "cell_type": "code",
   "execution_count": 24,
   "id": "39847169",
   "metadata": {},
   "outputs": [
    {
     "data": {
      "image/png": "[encoded data removed]",
      "text/plain": [
       "<Figure size 1152x720 with 1 Axes>"
      ]
     },
     "metadata": {
      "needs_background": "light"
     },
     "output_type": "display_data"
    }
   ],
   "source": [
    "plt.figure(figsize=(16,10))\n",
    "sns.lineplot(x=\"Month\", y=\"AveragePrice\", hue='type', data=df)\n",
    "plt.show()"
   ]
  },
  {
   "cell_type": "markdown",
   "id": "5039f1bb",
   "metadata": {},
   "source": [
    "There is hike between month sep to dec for both type of avocado 'conventional and organic'."
   ]
  },
  {
   "cell_type": "code",
   "execution_count": 25,
   "id": "3b9e4e13",
   "metadata": {},
   "outputs": [
    {
     "data": {
      "text/plain": [
       "array([[<AxesSubplot:title={'center':'Year'}>,\n",
       "        <AxesSubplot:title={'center':'AveragePrice'}>,\n",
       "        <AxesSubplot:title={'center':'Total Volume'}>,\n",
       "        <AxesSubplot:title={'center':'4046'}>],\n",
       "       [<AxesSubplot:title={'center':'4225'}>,\n",
       "        <AxesSubplot:title={'center':'4770'}>,\n",
       "        <AxesSubplot:title={'center':'Total Bags'}>,\n",
       "        <AxesSubplot:title={'center':'Small Bags'}>],\n",
       "       [<AxesSubplot:title={'center':'Large Bags'}>,\n",
       "        <AxesSubplot:title={'center':'XLarge Bags'}>,\n",
       "        <AxesSubplot:title={'center':'Day'}>, <AxesSubplot:>],\n",
       "       [<AxesSubplot:>, <AxesSubplot:>, <AxesSubplot:>, <AxesSubplot:>]],\n",
       "      dtype=object)"
      ]
     },
     "execution_count": 25,
     "metadata": {},
     "output_type": "execute_result"
    },
    {
     "data": {
      "image/png": "[encoded data removed]",
      "text/plain": [
       "<Figure size 1440x1440 with 16 Axes>"
      ]
     },
     "metadata": {
      "needs_background": "light"
     },
     "output_type": "display_data"
    }
   ],
   "source": [
    "#plotting histogram for analysis and checking the Normal Distribution\n",
    "df.hist(figsize=(20,20), grid = True, layout = (4,4), bins =30)"
   ]
  },
  {
   "cell_type": "markdown",
   "id": "f0573d5c",
   "metadata": {},
   "source": [
    "Average price column is normally distributing over the histogram."
   ]
  },
  {
   "cell_type": "code",
   "execution_count": 26,
   "id": "03ddb418",
   "metadata": {},
   "outputs": [
    {
     "data": {
      "image/png": "[encoded data removed]",
      "text/plain": [
       "<Figure size 1728x1080 with 1 Axes>"
      ]
     },
     "metadata": {
      "needs_background": "light"
     },
     "output_type": "display_data"
    }
   ],
   "source": [
    "#Let's check the  avg price in each region\n",
    "\n",
    "plt.figure(figsize=(24,15))\n",
    "sns.barplot(x='region',y='AveragePrice',data=df)\n",
    "plt.xticks(rotation=90)\n",
    "plt.xlabel('Region')\n",
    "plt.ylabel('Average Price')\n",
    "plt.title('Avg Price in each region');"
   ]
  },
  {
   "cell_type": "code",
   "execution_count": 27,
   "id": "ec64ecf8",
   "metadata": {},
   "outputs": [
    {
     "data": {
      "text/plain": [
       "Year                AxesSubplot(0.125,0.71587;0.133621x0.16413)\n",
       "AveragePrice     AxesSubplot(0.285345,0.71587;0.133621x0.16413)\n",
       "Total Volume      AxesSubplot(0.44569,0.71587;0.133621x0.16413)\n",
       "4046             AxesSubplot(0.606034,0.71587;0.133621x0.16413)\n",
       "4225             AxesSubplot(0.766379,0.71587;0.133621x0.16413)\n",
       "4770               AxesSubplot(0.125,0.518913;0.133621x0.16413)\n",
       "Total Bags      AxesSubplot(0.285345,0.518913;0.133621x0.16413)\n",
       "Small Bags       AxesSubplot(0.44569,0.518913;0.133621x0.16413)\n",
       "Large Bags      AxesSubplot(0.606034,0.518913;0.133621x0.16413)\n",
       "XLarge Bags     AxesSubplot(0.766379,0.518913;0.133621x0.16413)\n",
       "Day                AxesSubplot(0.125,0.321957;0.133621x0.16413)\n",
       "dtype: object"
      ]
     },
     "execution_count": 27,
     "metadata": {},
     "output_type": "execute_result"
    },
    {
     "data": {
      "image/png": "[encoded data removed]",
      "text/plain": [
       "<Figure size 1080x720 with 20 Axes>"
      ]
     },
     "metadata": {
      "needs_background": "light"
     },
     "output_type": "display_data"
    }
   ],
   "source": [
    "#Plotting Outliers\n",
    "df.plot(kind='box',subplots = True,layout=(4,5),figsize = (15,10))"
   ]
  },
  {
   "cell_type": "markdown",
   "id": "1d93c23e",
   "metadata": {},
   "source": [
    "We can see that there are hardly any outliers"
   ]
  },
  {
   "cell_type": "code",
   "execution_count": 28,
   "id": "8e62bc76",
   "metadata": {},
   "outputs": [
    {
     "data": {
      "text/plain": [
       "Month            0.106617\n",
       "Year             0.215339\n",
       "AveragePrice     0.580303\n",
       "Total Volume     9.007687\n",
       "4046             8.648220\n",
       "4225             8.942466\n",
       "4770            10.159396\n",
       "Total Bags       9.756072\n",
       "Small Bags       9.540660\n",
       "Large Bags       9.796455\n",
       "XLarge Bags     13.139751\n",
       "Day              0.014310\n",
       "dtype: float64"
      ]
     },
     "execution_count": 28,
     "metadata": {},
     "output_type": "execute_result"
    }
   ],
   "source": [
    "#checking skewness\n",
    "df.skew()"
   ]
  },
  {
   "cell_type": "code",
   "execution_count": 29,
   "id": "752236ca",
   "metadata": {},
   "outputs": [
    {
     "data": {
      "text/plain": [
       "[]"
      ]
     },
     "execution_count": 29,
     "metadata": {},
     "output_type": "execute_result"
    },
    {
     "data": {
      "image/png": "[encoded data removed]",
      "text/plain": [
       "<Figure size 2160x1800 with 2 Axes>"
      ]
     },
     "metadata": {
      "needs_background": "light"
     },
     "output_type": "display_data"
    }
   ],
   "source": [
    "#checking the corelation of all the column to each other\n",
    "df_cor = df.corr()\n",
    "plt.figure(figsize=(30,25))\n",
    "sns.heatmap(df_cor,annot=True)\n",
    "plt.plot()"
   ]
  },
  {
   "cell_type": "markdown",
   "id": "e06872f5",
   "metadata": {},
   "source": [
    "# Data prepration for model"
   ]
  },
  {
   "cell_type": "code",
   "execution_count": 30,
   "id": "677d9a08",
   "metadata": {},
   "outputs": [],
   "source": [
    "from sklearn.preprocessing import LabelEncoder\n",
    "le=LabelEncoder()\n",
    "mappings=list()\n",
    "\n",
    "for column in range(len(df.columns)):\n",
    "    df[df.columns[column]]=le.fit_transform(df[df.columns[column]])\n",
    "    mappings_dict={index: label for index, label in enumerate(le.classes_)}\n",
    "    mappings.append(mappings_dict)"
   ]
  },
  {
   "cell_type": "code",
   "execution_count": 31,
   "id": "0278086b",
   "metadata": {},
   "outputs": [
    {
     "name": "stdout",
     "output_type": "stream",
     "text": [
      "(18249, 14)\n",
      "(18118, 14)\n"
     ]
    }
   ],
   "source": [
    "#Let's check and treat the outliers\n",
    "\n",
    "from scipy.stats import zscore\n",
    "z_score=abs(zscore(df))\n",
    "print(df.shape)\n",
    "df_final=df.loc[(z_score<3).all(axis=1)]\n",
    "print(df_final.shape)"
   ]
  },
  {
   "cell_type": "code",
   "execution_count": 32,
   "id": "2cdc78b8",
   "metadata": {},
   "outputs": [
    {
     "data": {
      "text/plain": [
       "(18118, 14)"
      ]
     },
     "execution_count": 32,
     "metadata": {},
     "output_type": "execute_result"
    }
   ],
   "source": [
    "df=df_final\n",
    "df.shape"
   ]
  },
  {
   "cell_type": "code",
   "execution_count": 33,
   "id": "76e57a36",
   "metadata": {},
   "outputs": [
    {
     "data": {
      "text/plain": [
       "Month           0.059559\n",
       "Year            0.224198\n",
       "region          0.006878\n",
       "AveragePrice    0.400323\n",
       "Total Volume   -0.009983\n",
       "4046            0.006429\n",
       "4225           -0.006789\n",
       "4770            0.500235\n",
       "Total Bags     -0.003095\n",
       "Small Bags      0.037888\n",
       "Large Bags      0.181088\n",
       "XLarge Bags     1.599287\n",
       "type            0.014794\n",
       "Day             0.014846\n",
       "dtype: float64"
      ]
     },
     "execution_count": 33,
     "metadata": {},
     "output_type": "execute_result"
    }
   ],
   "source": [
    "df.skew()"
   ]
  },
  {
   "cell_type": "code",
   "execution_count": 34,
   "id": "7028e30c",
   "metadata": {},
   "outputs": [],
   "source": [
    "# Let's treat the skewness\n",
    "\n",
    "for col in df.columns:\n",
    "    if df[col].skew()>0.55:\n",
    "        df[col]=np.log1p(df[col])"
   ]
  },
  {
   "cell_type": "code",
   "execution_count": 35,
   "id": "026b860f",
   "metadata": {},
   "outputs": [
    {
     "data": {
      "text/plain": [
       "Month           0.059559\n",
       "Year            0.224198\n",
       "region          0.006878\n",
       "AveragePrice    0.400323\n",
       "Total Volume   -0.009983\n",
       "4046            0.006429\n",
       "4225           -0.006789\n",
       "4770            0.500235\n",
       "Total Bags     -0.003095\n",
       "Small Bags      0.037888\n",
       "Large Bags      0.181088\n",
       "XLarge Bags     0.750029\n",
       "type            0.014794\n",
       "Day             0.014846\n",
       "dtype: float64"
      ]
     },
     "execution_count": 35,
     "metadata": {},
     "output_type": "execute_result"
    }
   ],
   "source": [
    "df.skew()"
   ]
  },
  {
   "cell_type": "markdown",
   "id": "ec218459",
   "metadata": {},
   "source": [
    "# Prediction with average price"
   ]
  },
  {
   "cell_type": "code",
   "execution_count": 36,
   "id": "c8a18afc",
   "metadata": {},
   "outputs": [],
   "source": [
    "#Let's assign the value of x and y for training and testing\n",
    "\n",
    "x = df.drop(['AveragePrice'],axis=1)\n",
    "y = df['AveragePrice']"
   ]
  },
  {
   "cell_type": "code",
   "execution_count": 37,
   "id": "1f1e85f7",
   "metadata": {},
   "outputs": [],
   "source": [
    "from sklearn.model_selection import train_test_split\n",
    "x_train,x_test,y_train,y_test=train_test_split(x,y,test_size=0.20,random_state=0)"
   ]
  },
  {
   "cell_type": "code",
   "execution_count": 38,
   "id": "a53d4272",
   "metadata": {},
   "outputs": [],
   "source": [
    "# Let's scale the data\n",
    "\n",
    "from sklearn.preprocessing import StandardScaler\n",
    "sc=StandardScaler()\n",
    "x_sc=sc.fit_transform(x)\n",
    "x_sc=pd.DataFrame(x_sc,columns=x.columns)"
   ]
  },
  {
   "cell_type": "code",
   "execution_count": 39,
   "id": "5823a8be",
   "metadata": {},
   "outputs": [],
   "source": [
    "#Lets import all the metrics and regressors\n",
    "\n",
    "from sklearn.metrics import r2_score,mean_absolute_error,mean_squared_error\n",
    "from sklearn.linear_model import LogisticRegression,Lasso,LinearRegression\n",
    "from sklearn.neighbors import KNeighborsRegressor\n",
    "from sklearn.ensemble import RandomForestRegressor\n",
    "from sklearn.svm import SVR\n",
    "from sklearn.tree import DecisionTreeRegressor\n",
    "from sklearn.ensemble import AdaBoostRegressor,GradientBoostingRegressor\n",
    "from sklearn.model_selection import train_test_split,GridSearchCV\n",
    "from sklearn.decomposition import PCA\n",
    "from scipy.stats import zscore\n",
    "from sklearn.model_selection import cross_val_score\n",
    "from sklearn.linear_model import Lasso,Ridge,ElasticNet\n",
    "from sklearn.ensemble import GradientBoostingRegressor, BaggingRegressor"
   ]
  },
  {
   "cell_type": "code",
   "execution_count": 40,
   "id": "ca7274d1",
   "metadata": {},
   "outputs": [],
   "source": [
    "LR = LinearRegression()\n",
    "RR = Ridge()\n",
    "LSR = Lasso()\n",
    "KNR = KNeighborsRegressor()\n",
    "SV = SVR()\n",
    "DTC = DecisionTreeRegressor()\n",
    "RFC = RandomForestRegressor()\n",
    "ABC = AdaBoostRegressor()\n",
    "GBC = GradientBoostingRegressor()"
   ]
  },
  {
   "cell_type": "code",
   "execution_count": 41,
   "id": "38a2d6f2",
   "metadata": {},
   "outputs": [],
   "source": [
    "models = []\n",
    "models.append((\"LinearRegression\", LR))\n",
    "models.append((\"Ridge\", RR))\n",
    "models.append((\"Lasso\", LSR))\n",
    "models.append((\"KNeighborsRegressor\", KNR))\n",
    "models.append((\"SVR\", SV))\n",
    "models.append((\"DecisionTreeRegressor\", DTC))\n",
    "models.append((\"RandomForestRegressor\", RFC))\n",
    "models.append((\"AdaBoostRegressor\", ABC))\n",
    "models.append((\"GradientBoostingRegressor\", GBC))"
   ]
  },
  {
   "cell_type": "code",
   "execution_count": 42,
   "id": "65e14f7a",
   "metadata": {},
   "outputs": [
    {
     "name": "stdout",
     "output_type": "stream",
     "text": [
      "R2 score correspond to random state  42 is 0.7481118124253643\n",
      "R2 score correspond to random state  42 is 0.8769932426197736\n",
      "R2 score correspond to random state  42 is 0.7483246920116001\n",
      "R2 score correspond to random state  42 is 0.5490944517051907\n",
      "R2 score correspond to random state  42 is 0.5401757677308004\n",
      "R2 score correspond to random state  42 is 0.7411901685461149\n",
      "R2 score correspond to random state  43 is 0.7345013471200456\n",
      "R2 score correspond to random state  43 is 0.8740613765915235\n",
      "R2 score correspond to random state  43 is 0.7417696092924947\n",
      "R2 score correspond to random state  43 is 0.5401320411309485\n",
      "R2 score correspond to random state  43 is 0.5416083182691753\n",
      "R2 score correspond to random state  43 is 0.7448568606949533\n",
      "R2 score correspond to random state  44 is 0.7229799240526359\n",
      "R2 score correspond to random state  44 is 0.8747470948673955\n",
      "R2 score correspond to random state  44 is 0.7576174189675758\n",
      "R2 score correspond to random state  44 is 0.5524128862449904\n",
      "R2 score correspond to random state  44 is 0.528117733146301\n",
      "R2 score correspond to random state  44 is 0.7370558616193075\n",
      "R2 score correspond to random state  45 is 0.7402758582344635\n",
      "R2 score correspond to random state  45 is 0.8841875505145456\n",
      "R2 score correspond to random state  45 is 0.7522141323892229\n",
      "R2 score correspond to random state  45 is 0.5528256335921202\n",
      "R2 score correspond to random state  45 is 0.533362774490387\n",
      "R2 score correspond to random state  45 is 0.7400209732336505\n",
      "R2 score correspond to random state  46 is 0.7431257966661711\n",
      "R2 score correspond to random state  46 is 0.8737821717139518\n",
      "R2 score correspond to random state  46 is 0.7288254541102428\n",
      "R2 score correspond to random state  46 is 0.5299856902835867\n",
      "R2 score correspond to random state  46 is 0.5144354857572055\n",
      "R2 score correspond to random state  46 is 0.7314903105281908\n",
      "R2 score correspond to random state  47 is 0.7309350751224044\n",
      "R2 score correspond to random state  47 is 0.8824814966971287\n",
      "R2 score correspond to random state  47 is 0.7518742196845738\n",
      "R2 score correspond to random state  47 is 0.557476844377373\n",
      "R2 score correspond to random state  47 is 0.5280165267359038\n",
      "R2 score correspond to random state  47 is 0.7512124022295554\n",
      "R2 score correspond to random state  48 is 0.7263019113142438\n",
      "R2 score correspond to random state  48 is 0.8836179416416029\n",
      "R2 score correspond to random state  48 is 0.761535945323627\n",
      "R2 score correspond to random state  48 is 0.552875993212268\n",
      "R2 score correspond to random state  48 is 0.5570103534652577\n",
      "R2 score correspond to random state  48 is 0.7520914669670643\n",
      "R2 score correspond to random state  49 is 0.7435417445568083\n",
      "R2 score correspond to random state  49 is 0.8835776049505246\n",
      "R2 score correspond to random state  49 is 0.767873758871731\n",
      "R2 score correspond to random state  49 is 0.555386152003996\n",
      "R2 score correspond to random state  49 is 0.5372954889004802\n",
      "R2 score correspond to random state  49 is 0.7424961113244806\n",
      "R2 score correspond to random state  50 is 0.7308974370256797\n",
      "R2 score correspond to random state  50 is 0.8811052963577489\n",
      "R2 score correspond to random state  50 is 0.7588575122618233\n",
      "R2 score correspond to random state  50 is 0.5561473812856439\n",
      "R2 score correspond to random state  50 is 0.5422298210613613\n",
      "R2 score correspond to random state  50 is 0.7428909308498172\n",
      "R2 score correspond to random state  51 is 0.7381018757155908\n",
      "R2 score correspond to random state  51 is 0.8832693945692854\n",
      "R2 score correspond to random state  51 is 0.7614088882421621\n",
      "R2 score correspond to random state  51 is 0.5517298095019845\n",
      "R2 score correspond to random state  51 is 0.540823692009331\n",
      "R2 score correspond to random state  51 is 0.7448444789630633\n",
      "R2 score correspond to random state  52 is 0.7408442989910082\n",
      "R2 score correspond to random state  52 is 0.8794173933864995\n",
      "R2 score correspond to random state  52 is 0.749896055952247\n",
      "R2 score correspond to random state  52 is 0.5620115755016609\n",
      "R2 score correspond to random state  52 is 0.5266499397235429\n",
      "R2 score correspond to random state  52 is 0.740555429939826\n",
      "R2 score correspond to random state  53 is 0.7292253986424676\n",
      "R2 score correspond to random state  53 is 0.8789641994091332\n",
      "R2 score correspond to random state  53 is 0.7486926488455936\n",
      "R2 score correspond to random state  53 is 0.566227554385365\n",
      "R2 score correspond to random state  53 is 0.5388399079101525\n",
      "R2 score correspond to random state  53 is 0.746479489658488\n",
      "R2 score correspond to random state  54 is 0.7057169103447343\n",
      "R2 score correspond to random state  54 is 0.8723055552970964\n",
      "R2 score correspond to random state  54 is 0.746762957523669\n",
      "R2 score correspond to random state  54 is 0.5546066992857432\n",
      "R2 score correspond to random state  54 is 0.5310254151995335\n",
      "R2 score correspond to random state  54 is 0.7328581693766991\n",
      "R2 score correspond to random state  55 is 0.7024724220494971\n",
      "R2 score correspond to random state  55 is 0.873988165771217\n",
      "R2 score correspond to random state  55 is 0.7590437837434011\n",
      "R2 score correspond to random state  55 is 0.5510055457814325\n",
      "R2 score correspond to random state  55 is 0.5308018091611656\n",
      "R2 score correspond to random state  55 is 0.7311521293267499\n",
      "R2 score correspond to random state  56 is 0.746915049936832\n",
      "R2 score correspond to random state  56 is 0.8836486653080186\n",
      "R2 score correspond to random state  56 is 0.7472032720598967\n",
      "R2 score correspond to random state  56 is 0.5538706503709583\n",
      "R2 score correspond to random state  56 is 0.5442886454083635\n",
      "R2 score correspond to random state  56 is 0.7447366687130754\n",
      "R2 score correspond to random state  57 is 0.7459437717519677\n",
      "R2 score correspond to random state  57 is 0.8768532332631996\n",
      "R2 score correspond to random state  57 is 0.750986515822696\n",
      "R2 score correspond to random state  57 is 0.5546577139504063\n",
      "R2 score correspond to random state  57 is 0.5432659108495888\n",
      "R2 score correspond to random state  57 is 0.7457719048628799\n",
      "R2 score correspond to random state  58 is 0.7617314127504441\n",
      "R2 score correspond to random state  58 is 0.8790966550011674\n",
      "R2 score correspond to random state  58 is 0.7565045280706131\n",
      "R2 score correspond to random state  58 is 0.5543342557296629\n",
      "R2 score correspond to random state  58 is 0.5441378716069947\n",
      "R2 score correspond to random state  58 is 0.7493934572970592\n",
      "R2 score correspond to random state  59 is 0.7446512985616536\n",
      "R2 score correspond to random state  59 is 0.8722758723923034\n",
      "R2 score correspond to random state  59 is 0.7436738763679378\n",
      "R2 score correspond to random state  59 is 0.5475323098916741\n",
      "R2 score correspond to random state  59 is 0.5373449182252735\n",
      "R2 score correspond to random state  59 is 0.7484746169815466\n",
      "R2 score correspond to random state  60 is 0.7434793169409009\n",
      "R2 score correspond to random state  60 is 0.8803280892123244\n",
      "R2 score correspond to random state  60 is 0.7545444158752326\n",
      "R2 score correspond to random state  60 is 0.5393544286056067\n",
      "R2 score correspond to random state  60 is 0.5330934970248994\n",
      "R2 score correspond to random state  60 is 0.7497939719072297\n",
      "R2 score correspond to random state  61 is 0.745411900412918\n",
      "R2 score correspond to random state  61 is 0.886581512310655\n",
      "R2 score correspond to random state  61 is 0.7525339900728442\n",
      "R2 score correspond to random state  61 is 0.5396289160619845\n",
      "R2 score correspond to random state  61 is 0.5318934666607756\n",
      "R2 score correspond to random state  61 is 0.7369801053039391\n",
      "R2 score correspond to random state  62 is 0.7541080419860076\n",
      "R2 score correspond to random state  62 is 0.8921472266259085\n",
      "R2 score correspond to random state  62 is 0.7524328759603988\n",
      "R2 score correspond to random state  62 is 0.5468305469771574\n",
      "R2 score correspond to random state  62 is 0.5400232996428893\n",
      "R2 score correspond to random state  62 is 0.7515516946173693\n",
      "R2 score correspond to random state  63 is 0.7607932221596075\n",
      "R2 score correspond to random state  63 is 0.8789544095998875\n",
      "R2 score correspond to random state  63 is 0.7633163560988295\n",
      "R2 score correspond to random state  63 is 0.5599273709445871\n",
      "R2 score correspond to random state  63 is 0.5255879554522652\n",
      "R2 score correspond to random state  63 is 0.7358446305779283\n",
      "R2 score correspond to random state  64 is 0.7177559969186389\n",
      "R2 score correspond to random state  64 is 0.8771953815937794\n",
      "R2 score correspond to random state  64 is 0.752617335714524\n",
      "R2 score correspond to random state  64 is 0.5715859944992293\n",
      "R2 score correspond to random state  64 is 0.542093141583964\n",
      "R2 score correspond to random state  64 is 0.7379471300441668\n",
      "R2 score correspond to random state  65 is 0.7395131217468905\n",
      "R2 score correspond to random state  65 is 0.8705447410168955\n",
      "R2 score correspond to random state  65 is 0.7377979961140824\n",
      "R2 score correspond to random state  65 is 0.54758001913994\n",
      "R2 score correspond to random state  65 is 0.5361202888358305\n",
      "R2 score correspond to random state  65 is 0.7350599930840735\n",
      "R2 score correspond to random state  66 is 0.7031223440490085\n",
      "R2 score correspond to random state  66 is 0.8780722394532847\n",
      "R2 score correspond to random state  66 is 0.7410745564670349\n",
      "R2 score correspond to random state  66 is 0.5486164978027619\n",
      "R2 score correspond to random state  66 is 0.5344492763603779\n",
      "R2 score correspond to random state  66 is 0.7362853561174956\n",
      "R2 score correspond to random state  67 is 0.7298200780546101\n",
      "R2 score correspond to random state  67 is 0.8735965102629863\n",
      "R2 score correspond to random state  67 is 0.7524752969108113\n",
      "R2 score correspond to random state  67 is 0.5636654933898388\n",
      "R2 score correspond to random state  67 is 0.5386715305296813\n",
      "R2 score correspond to random state  67 is 0.7349062352490574\n",
      "R2 score correspond to random state  68 is 0.7374153597774195\n",
      "R2 score correspond to random state  68 is 0.8848795623478422\n",
      "R2 score correspond to random state  68 is 0.7343704391967075\n",
      "R2 score correspond to random state  68 is 0.5577603821530088\n",
      "R2 score correspond to random state  68 is 0.5557609922198035\n",
      "R2 score correspond to random state  68 is 0.7501317000006831\n",
      "R2 score correspond to random state  69 is 0.7468570034983855\n",
      "R2 score correspond to random state  69 is 0.8831351911116787\n",
      "R2 score correspond to random state  69 is 0.7589723094367438\n",
      "R2 score correspond to random state  69 is 0.5466749696548334\n",
      "R2 score correspond to random state  69 is 0.5355339145487427\n",
      "R2 score correspond to random state  69 is 0.7486682904023947\n",
      "R2 score correspond to random state  70 is 0.7226643764907901\n",
      "R2 score correspond to random state  70 is 0.8784997123760253\n",
      "R2 score correspond to random state  70 is 0.752730405122017\n",
      "R2 score correspond to random state  70 is 0.5423651427476279\n",
      "R2 score correspond to random state  70 is 0.5284532293727855\n",
      "R2 score correspond to random state  70 is 0.7402847494442581\n",
      "R2 score correspond to random state  71 is 0.7282427136008351\n",
      "R2 score correspond to random state  71 is 0.8791308618780849\n",
      "R2 score correspond to random state  71 is 0.7441928944936416\n",
      "R2 score correspond to random state  71 is 0.5561316071238287\n",
      "R2 score correspond to random state  71 is 0.5292767367777218\n",
      "R2 score correspond to random state  71 is 0.7398204634410532\n",
      "R2 score correspond to random state  72 is 0.7427058732152837\n",
      "R2 score correspond to random state  72 is 0.8756860293113853\n",
      "R2 score correspond to random state  72 is 0.7464371325039787\n",
      "R2 score correspond to random state  72 is 0.5563057363605952\n",
      "R2 score correspond to random state  72 is 0.5270366521308412\n",
      "R2 score correspond to random state  72 is 0.7358952605455595\n",
      "R2 score correspond to random state  73 is 0.7424696622332809\n",
      "R2 score correspond to random state  73 is 0.8820595302072722\n",
      "R2 score correspond to random state  73 is 0.7506469446976444\n",
      "R2 score correspond to random state  73 is 0.5551659863241852\n",
      "R2 score correspond to random state  73 is 0.5340598130933248\n",
      "R2 score correspond to random state  73 is 0.7437397883217645\n",
      "R2 score correspond to random state  74 is 0.7187267246153541\n",
      "R2 score correspond to random state  74 is 0.8801753044647628\n",
      "R2 score correspond to random state  74 is 0.7590719792915601\n",
      "R2 score correspond to random state  74 is 0.5655667426730775\n",
      "R2 score correspond to random state  74 is 0.5387855378926171\n",
      "R2 score correspond to random state  74 is 0.7393744843875121\n",
      "R2 score correspond to random state  75 is 0.7415669903172919\n",
      "R2 score correspond to random state  75 is 0.8854087643396238\n",
      "R2 score correspond to random state  75 is 0.7561853610340711\n",
      "R2 score correspond to random state  75 is 0.5560487655844241\n",
      "R2 score correspond to random state  75 is 0.5337263123467386\n",
      "R2 score correspond to random state  75 is 0.746264846113437\n",
      "R2 score correspond to random state  76 is 0.7255363050969048\n",
      "R2 score correspond to random state  76 is 0.8825272701602317\n",
      "R2 score correspond to random state  76 is 0.7666712268778915\n",
      "R2 score correspond to random state  76 is 0.5559931595846619\n",
      "R2 score correspond to random state  76 is 0.5373010817430095\n",
      "R2 score correspond to random state  76 is 0.7475894740833934\n",
      "R2 score correspond to random state  77 is 0.7241071333174369\n",
      "R2 score correspond to random state  77 is 0.8744327917890787\n",
      "R2 score correspond to random state  77 is 0.7414848902820725\n",
      "R2 score correspond to random state  77 is 0.5449313029293034\n",
      "R2 score correspond to random state  77 is 0.529927578258903\n",
      "R2 score correspond to random state  77 is 0.7385288809395547\n",
      "R2 score correspond to random state  78 is 0.7578820176803859\n",
      "R2 score correspond to random state  78 is 0.8788834037789299\n",
      "R2 score correspond to random state  78 is 0.7590772343814902\n",
      "R2 score correspond to random state  78 is 0.5462168060728603\n",
      "R2 score correspond to random state  78 is 0.5427246153038323\n",
      "R2 score correspond to random state  78 is 0.7434791871896209\n",
      "R2 score correspond to random state  79 is 0.7263612050858477\n",
      "R2 score correspond to random state  79 is 0.8830527282019244\n",
      "R2 score correspond to random state  79 is 0.7638159619812226\n",
      "R2 score correspond to random state  79 is 0.5441140120387487\n",
      "R2 score correspond to random state  79 is 0.5411323219600431\n",
      "R2 score correspond to random state  79 is 0.7506708625542516\n",
      "\n",
      "\n",
      "\n",
      "\n",
      "max R2 score correspond to random state  62 is 0.8921472266259085 and model is RandomForestRegressor()\n"
     ]
    }
   ],
   "source": [
    "#Let's model using multiple Algorithms \n",
    "\n",
    "model = [DecisionTreeRegressor(),RandomForestRegressor(),KNeighborsRegressor(),AdaBoostRegressor(),LinearRegression(),GradientBoostingRegressor()]\n",
    "max_r2_score = 0\n",
    "for r_state in range(42,80):\n",
    "    x_train,x_test,y_train,y_test = train_test_split(x,y,random_state = r_state,test_size = 0.20)\n",
    "    for i in model:\n",
    "        i.fit(x_train,y_train)\n",
    "        pre = i.predict(x_test)\n",
    "        r2_sc = r2_score(y_test,pre)\n",
    "        print(\"R2 score correspond to random state \" ,r_state ,\"is\", r2_sc)\n",
    "        if r2_sc> max_r2_score:\n",
    "            max_r2_score=r2_sc\n",
    "            final_state = r_state\n",
    "            final_model = i\n",
    "            \n",
    "print()\n",
    "print()\n",
    "print()\n",
    "print()\n",
    "print(\"max R2 score correspond to random state \" ,final_state , \"is\" , max_r2_score ,\"and model is\",final_model)"
   ]
  },
  {
   "cell_type": "code",
   "execution_count": 43,
   "id": "eea438ba",
   "metadata": {},
   "outputs": [],
   "source": [
    "from sklearn.model_selection import cross_val_score\n",
    "from sklearn.model_selection import KFold\n",
    "kf = KFold(n_splits=5, random_state=47, shuffle=True)"
   ]
  },
  {
   "cell_type": "code",
   "execution_count": 44,
   "id": "500a01fd",
   "metadata": {},
   "outputs": [
    {
     "name": "stdout",
     "output_type": "stream",
     "text": [
      "LinearRegression()\n",
      "R2 Score =  0.5411323219600431\n",
      "Cross val score =  0.5368158763491973\n",
      "Mean Squared error: 688.7533716321443\n",
      "Mean absolute error: 20.702490589156042\n",
      "Root Mean absolute error: 4.549998965841206\n",
      "--------------------------------------------\n",
      "\n",
      "Ridge()\n",
      "R2 Score =  0.5411357662029506\n",
      "Cross val score =  0.5368159032968421\n",
      "Mean Squared error: 688.7482018761802\n",
      "Mean absolute error: 20.70252007959683\n",
      "Root Mean absolute error: 4.550002206548567\n",
      "--------------------------------------------\n",
      "\n",
      "Lasso()\n",
      "R2 Score =  0.5325277193565905\n",
      "Cross val score =  0.5272012825553323\n",
      "Mean Squared error: 701.6687486314515\n",
      "Mean absolute error: 20.988006046534103\n",
      "Root Mean absolute error: 4.581266860436544\n",
      "--------------------------------------------\n",
      "\n",
      "KNeighborsRegressor()\n",
      "R2 Score =  0.7638159619812226\n",
      "Cross val score =  0.7535769337437218\n",
      "Mean Squared error: 354.5086313465784\n",
      "Mean absolute error: 12.872626931567327\n",
      "Root Mean absolute error: 3.587844329338625\n",
      "--------------------------------------------\n",
      "\n",
      "SVR()\n",
      "R2 Score =  0.4718447720845299\n",
      "Cross val score =  0.4676976438747915\n",
      "Mean Squared error: 792.7529250387685\n",
      "Mean absolute error: 21.904617496859757\n",
      "Root Mean absolute error: 4.680236906061461\n",
      "--------------------------------------------\n",
      "\n",
      "DecisionTreeRegressor()\n",
      "R2 Score =  0.7228997173574927\n",
      "Cross val score =  0.7358020322064593\n",
      "Mean Squared error: 415.92328918322295\n",
      "Mean absolute error: 13.166666666666666\n",
      "Root Mean absolute error: 3.6285901761795403\n",
      "--------------------------------------------\n",
      "\n",
      "RandomForestRegressor()\n",
      "R2 Score =  0.8825495295854626\n",
      "Cross val score =  0.8796797488702589\n",
      "Mean Squared error: 176.2913610375276\n",
      "Mean absolute error: 9.308692052980131\n",
      "Root Mean absolute error: 3.0510149217891627\n",
      "--------------------------------------------\n",
      "\n",
      "AdaBoostRegressor()\n",
      "R2 Score =  0.5528313877514854\n",
      "Cross val score =  0.5507199969507447\n",
      "Mean Squared error: 671.1932526819043\n",
      "Mean absolute error: 21.063589327472666\n",
      "Root Mean absolute error: 4.589508615034148\n",
      "--------------------------------------------\n",
      "\n",
      "GradientBoostingRegressor()\n",
      "R2 Score =  0.7506708625542517\n",
      "Cross val score =  0.7424846819886353\n",
      "Mean Squared error: 374.2392246832867\n",
      "Mean absolute error: 14.927470098975208\n",
      "Root Mean absolute error: 3.863608429819876\n",
      "--------------------------------------------\n",
      "\n"
     ]
    }
   ],
   "source": [
    "Model = []\n",
    "score = []\n",
    "cvs = []\n",
    "MSE = []\n",
    "MAE = []\n",
    "RMAE = []\n",
    "\n",
    "for name,model in models:\n",
    "    \n",
    "    Model.append(name)\n",
    "    model.fit(x_train,y_train)\n",
    "    print(model)\n",
    "    pre = model.predict(x_test)\n",
    "    \n",
    "    R2 = r2_score(y_test,pre)\n",
    "    print(\"R2 Score = \",R2)\n",
    "    score.append(R2)\n",
    "    \n",
    "    sc = cross_val_score(model,x,y,cv=kf,scoring=\"r2\").mean()\n",
    "    print(\"Cross val score = \",sc)\n",
    "    cvs.append(sc)\n",
    "    \n",
    "    mse = mean_squared_error(y_test,pre)\n",
    "    print(\"Mean Squared error: {}\".format(mse))\n",
    "    MSE.append(mse)\n",
    "    \n",
    "    mae = mean_absolute_error(y_test,pre)\n",
    "    print(\"Mean absolute error: {}\".format(mae))\n",
    "    MAE.append(mae)\n",
    "    \n",
    "    rmae = np.sqrt(mean_absolute_error(y_test,pre))\n",
    "    print(\"Root Mean absolute error: {}\".format(rmae))\n",
    "    RMAE.append(rmae)\n",
    "    \n",
    "    print(\"--------------------------------------------\\n\")"
   ]
  },
  {
   "cell_type": "code",
   "execution_count": 45,
   "id": "956dfce2",
   "metadata": {},
   "outputs": [
    {
     "data": {
      "text/html": [
       "<div>\n",
       "<style scoped>\n",
       "    .dataframe tbody tr th:only-of-type {\n",
       "        vertical-align: middle;\n",
       "    }\n",
       "\n",
       "    .dataframe tbody tr th {\n",
       "        vertical-align: top;\n",
       "    }\n",
       "\n",
       "    .dataframe thead th {\n",
       "        text-align: right;\n",
       "    }\n",
       "</style>\n",
       "<table border=\"1\" class=\"dataframe\">\n",
       "  <thead>\n",
       "    <tr style=\"text-align: right;\">\n",
       "      <th></th>\n",
       "      <th>Model</th>\n",
       "      <th>R2 Socre</th>\n",
       "      <th>Cross val score</th>\n",
       "      <th>Mean Squared Error</th>\n",
       "      <th>Mean Absolute Error</th>\n",
       "      <th>Root Mean Absolute Error</th>\n",
       "    </tr>\n",
       "  </thead>\n",
       "  <tbody>\n",
       "    <tr>\n",
       "      <th>0</th>\n",
       "      <td>LinearRegression</td>\n",
       "      <td>0.541132</td>\n",
       "      <td>0.536816</td>\n",
       "      <td>688.753372</td>\n",
       "      <td>20.702491</td>\n",
       "      <td>4.549999</td>\n",
       "    </tr>\n",
       "    <tr>\n",
       "      <th>1</th>\n",
       "      <td>Ridge</td>\n",
       "      <td>0.541136</td>\n",
       "      <td>0.536816</td>\n",
       "      <td>688.748202</td>\n",
       "      <td>20.702520</td>\n",
       "      <td>4.550002</td>\n",
       "    </tr>\n",
       "    <tr>\n",
       "      <th>2</th>\n",
       "      <td>Lasso</td>\n",
       "      <td>0.532528</td>\n",
       "      <td>0.527201</td>\n",
       "      <td>701.668749</td>\n",
       "      <td>20.988006</td>\n",
       "      <td>4.581267</td>\n",
       "    </tr>\n",
       "    <tr>\n",
       "      <th>3</th>\n",
       "      <td>KNeighborsRegressor</td>\n",
       "      <td>0.763816</td>\n",
       "      <td>0.753577</td>\n",
       "      <td>354.508631</td>\n",
       "      <td>12.872627</td>\n",
       "      <td>3.587844</td>\n",
       "    </tr>\n",
       "    <tr>\n",
       "      <th>4</th>\n",
       "      <td>SVR</td>\n",
       "      <td>0.471845</td>\n",
       "      <td>0.467698</td>\n",
       "      <td>792.752925</td>\n",
       "      <td>21.904617</td>\n",
       "      <td>4.680237</td>\n",
       "    </tr>\n",
       "    <tr>\n",
       "      <th>5</th>\n",
       "      <td>DecisionTreeRegressor</td>\n",
       "      <td>0.722900</td>\n",
       "      <td>0.735802</td>\n",
       "      <td>415.923289</td>\n",
       "      <td>13.166667</td>\n",
       "      <td>3.628590</td>\n",
       "    </tr>\n",
       "    <tr>\n",
       "      <th>6</th>\n",
       "      <td>RandomForestRegressor</td>\n",
       "      <td>0.882550</td>\n",
       "      <td>0.879680</td>\n",
       "      <td>176.291361</td>\n",
       "      <td>9.308692</td>\n",
       "      <td>3.051015</td>\n",
       "    </tr>\n",
       "    <tr>\n",
       "      <th>7</th>\n",
       "      <td>AdaBoostRegressor</td>\n",
       "      <td>0.552831</td>\n",
       "      <td>0.550720</td>\n",
       "      <td>671.193253</td>\n",
       "      <td>21.063589</td>\n",
       "      <td>4.589509</td>\n",
       "    </tr>\n",
       "    <tr>\n",
       "      <th>8</th>\n",
       "      <td>GradientBoostingRegressor</td>\n",
       "      <td>0.750671</td>\n",
       "      <td>0.742485</td>\n",
       "      <td>374.239225</td>\n",
       "      <td>14.927470</td>\n",
       "      <td>3.863608</td>\n",
       "    </tr>\n",
       "  </tbody>\n",
       "</table>\n",
       "</div>"
      ],
      "text/plain": [
       "                       Model  R2 Socre  Cross val score  Mean Squared Error  \\\n",
       "0           LinearRegression  0.541132         0.536816          688.753372   \n",
       "1                      Ridge  0.541136         0.536816          688.748202   \n",
       "2                      Lasso  0.532528         0.527201          701.668749   \n",
       "3        KNeighborsRegressor  0.763816         0.753577          354.508631   \n",
       "4                        SVR  0.471845         0.467698          792.752925   \n",
       "5      DecisionTreeRegressor  0.722900         0.735802          415.923289   \n",
       "6      RandomForestRegressor  0.882550         0.879680          176.291361   \n",
       "7          AdaBoostRegressor  0.552831         0.550720          671.193253   \n",
       "8  GradientBoostingRegressor  0.750671         0.742485          374.239225   \n",
       "\n",
       "   Mean Absolute Error  Root Mean Absolute Error  \n",
       "0            20.702491                  4.549999  \n",
       "1            20.702520                  4.550002  \n",
       "2            20.988006                  4.581267  \n",
       "3            12.872627                  3.587844  \n",
       "4            21.904617                  4.680237  \n",
       "5            13.166667                  3.628590  \n",
       "6             9.308692                  3.051015  \n",
       "7            21.063589                  4.589509  \n",
       "8            14.927470                  3.863608  "
      ]
     },
     "execution_count": 45,
     "metadata": {},
     "output_type": "execute_result"
    }
   ],
   "source": [
    "result = pd.DataFrame({\"Model\": Model, \"R2 Socre\": score, \"Cross val score\": cvs, \"Mean Squared Error\": MSE, \"Mean Absolute Error\": MAE, \"Root Mean Absolute Error\": RMAE})\n",
    "result"
   ]
  },
  {
   "cell_type": "code",
   "execution_count": 46,
   "id": "1add4f1e",
   "metadata": {},
   "outputs": [
    {
     "name": "stdout",
     "output_type": "stream",
     "text": [
      "Parameters currently in use:\n",
      "\n",
      "{'bootstrap': True,\n",
      " 'ccp_alpha': 0.0,\n",
      " 'criterion': 'mse',\n",
      " 'max_depth': None,\n",
      " 'max_features': 'auto',\n",
      " 'max_leaf_nodes': None,\n",
      " 'max_samples': None,\n",
      " 'min_impurity_decrease': 0.0,\n",
      " 'min_impurity_split': None,\n",
      " 'min_samples_leaf': 1,\n",
      " 'min_samples_split': 2,\n",
      " 'min_weight_fraction_leaf': 0.0,\n",
      " 'n_estimators': 100,\n",
      " 'n_jobs': None,\n",
      " 'oob_score': False,\n",
      " 'random_state': None,\n",
      " 'verbose': 0,\n",
      " 'warm_start': False}\n"
     ]
    }
   ],
   "source": [
    "#Let's look at parameters used by our current RandomForestRegressor\n",
    "\n",
    "RFC = RandomForestRegressor()\n",
    "from pprint import pprint\n",
    "print('Parameters currently in use:\\n')\n",
    "pprint(RFC.get_params())"
   ]
  },
  {
   "cell_type": "code",
   "execution_count": 47,
   "id": "520f35a9",
   "metadata": {},
   "outputs": [
    {
     "name": "stdout",
     "output_type": "stream",
     "text": [
      "Fitting 3 folds for each of 900 candidates, totalling 2700 fits\n",
      "GridSearchCV(cv=3, estimator=RandomForestRegressor(), n_jobs=-1,\n",
      "             param_grid={'bootstrap': [True, False],\n",
      "                         'max_depth': [10, 20, 30, 40, None],\n",
      "                         'max_features': ['auto', 'sqrt'],\n",
      "                         'min_samples_leaf': [1, 2, 4],\n",
      "                         'min_samples_split': [2, 5, 10],\n",
      "                         'n_estimators': [5, 10, 20, 30, 50]},\n",
      "             verbose=2)\n",
      "0.8643986319417172\n",
      "50\n",
      "{'bootstrap': False, 'max_depth': 20, 'max_features': 'sqrt', 'min_samples_leaf': 1, 'min_samples_split': 2, 'n_estimators': 50}\n"
     ]
    }
   ],
   "source": [
    "#Let's hype tune our model with GridSearchCV\n",
    "\n",
    "from sklearn.model_selection import GridSearchCV\n",
    "parameters = {'bootstrap': [True, False],\n",
    "              'max_depth': [10, 20, 30, 40, None],\n",
    "              'max_features': ['auto', 'sqrt'],\n",
    "              'min_samples_leaf': [1, 2, 4],\n",
    "              'min_samples_split': [2, 5, 10],\n",
    "              'n_estimators': [5, 10, 20, 30, 50],\n",
    "             }\n",
    "grid = GridSearchCV(estimator=RFC,param_grid=parameters,\n",
    "                    cv = 3, verbose=2, n_jobs = -1)\n",
    "grid.fit(x_train,y_train)\n",
    "print(grid)\n",
    "print(grid.best_score_)\n",
    "print(grid.best_estimator_.n_estimators)\n",
    "print(grid.best_params_)"
   ]
  },
  {
   "cell_type": "code",
   "execution_count": 75,
   "id": "3312d5b5",
   "metadata": {},
   "outputs": [
    {
     "name": "stdout",
     "output_type": "stream",
     "text": [
      "Score= 0.9803384428421471\n",
      "*******************************************************************\n",
      "Mean Absolute Error=  9.804415930831496\n",
      "Mean squared Error=  187.84234897289676\n",
      "Root Mean Absolute Error=  3.13120039774389\n",
      "*******************************************************************\n",
      "R2 Score= 0.8748539229557484\n"
     ]
    }
   ],
   "source": [
    "#Let's re-train the regressor model with the best parameters\n",
    "\n",
    "RFC = RandomForestRegressor(min_samples_leaf = 1, min_samples_split= 2,\n",
    "                            max_features = 'sqrt', n_estimators = 50)\n",
    "RFC.fit(x_train,y_train)\n",
    "print(\"Score=\",RFC.score(x_train,y_train))\n",
    "predrfc = RFC.predict(x_test)\n",
    "print('*******************************************************************')\n",
    "print('Mean Absolute Error= ', mean_absolute_error(y_test,predrfc))\n",
    "print('Mean squared Error= ', mean_squared_error(y_test,predrfc))\n",
    "print('Root Mean Absolute Error= ', np.sqrt(mean_absolute_error(y_test,predrfc)))\n",
    "print('*******************************************************************')\n",
    "print('R2 Score=',r2_score(y_test,predrfc))    "
   ]
  },
  {
   "cell_type": "code",
   "execution_count": 76,
   "id": "711f9c95",
   "metadata": {},
   "outputs": [
    {
     "data": {
      "image/png": "[encoded data removed]",
      "text/plain": [
       "<Figure size 432x288 with 1 Axes>"
      ]
     },
     "metadata": {
      "needs_background": "light"
     },
     "output_type": "display_data"
    }
   ],
   "source": [
    "#checking the diff between actual and predicted value using graph\n",
    "\n",
    "plt.scatter(x=y_test,y=predrfc)\n",
    "plt.xlabel('Y_Test')\n",
    "plt.ylabel('Predicted_Y');\n"
   ]
  },
  {
   "cell_type": "markdown",
   "id": "51cf9408",
   "metadata": {},
   "source": [
    "# Now we are taking region as indepependent variable and predicting using classificaton method"
   ]
  },
  {
   "cell_type": "code",
   "execution_count": 50,
   "id": "90e47bff",
   "metadata": {},
   "outputs": [
    {
     "name": "stdout",
     "output_type": "stream",
     "text": [
      "(18118, 11)\n",
      "(18118, 1)\n"
     ]
    }
   ],
   "source": [
    "#Let's assign the value of x and y for training and testing phase\n",
    "\n",
    "x_c = df.drop(columns=['region','Day','Total Bags'])\n",
    "y_c = df[[\"region\"]]\n",
    "print(x_c.shape)\n",
    "print(y_c.shape)"
   ]
  },
  {
   "cell_type": "code",
   "execution_count": 51,
   "id": "8bdd7ec1",
   "metadata": {},
   "outputs": [],
   "source": [
    "# Let's scale the data\n",
    "\n",
    "from sklearn.preprocessing import StandardScaler\n",
    "sc = StandardScaler()\n",
    "sc.fit_transform(x_c)\n",
    "x_c = pd.DataFrame(x_c,columns=x_c.columns)"
   ]
  },
  {
   "cell_type": "code",
   "execution_count": 52,
   "id": "d36ede5f",
   "metadata": {},
   "outputs": [],
   "source": [
    "from sklearn.model_selection import train_test_split\n",
    "xc_train,xc_test,yc_train,yc_test=train_test_split(x_c,y_c,test_size=0.2,random_state=0)"
   ]
  },
  {
   "cell_type": "code",
   "execution_count": 53,
   "id": "757544e6",
   "metadata": {},
   "outputs": [],
   "source": [
    "from sklearn.metrics import confusion_matrix\n",
    "from sklearn.metrics import classification_report\n",
    "from sklearn.metrics import accuracy_score\n",
    "def cal_accuracy(yc_test, yc_predict): \n",
    "    \n",
    "    print(\"\\nConfusion Matrix: \\n\", \n",
    "    confusion_matrix(yc_test, yc_predict)) \n",
    "    \n",
    "    print(\"\\nClassification Report: \\n\", \n",
    "    classification_report(yc_test, yc_predict)) \n",
    "      \n",
    "    print (f\"\\nAccuracy : {accuracy_score(yc_test,yc_predict)*100:0.2f}%\")"
   ]
  },
  {
   "cell_type": "code",
   "execution_count": 54,
   "id": "f2086cd7",
   "metadata": {},
   "outputs": [
    {
     "name": "stdout",
     "output_type": "stream",
     "text": [
      "Accuracy of Train Dataset: 24.95%\n",
      "Accuracy of Test Dataset: 24.28%\n"
     ]
    }
   ],
   "source": [
    "from sklearn.linear_model import LogisticRegression\n",
    "log=LogisticRegression()\n",
    "log.fit(xc_train,yc_train)\n",
    "print(f\"Accuracy of Train Dataset: {log.score(xc_train,yc_train)*100:0.2f}%\")\n",
    "print(f\"Accuracy of Test Dataset: {log.score(xc_test,yc_test)*100:0.2f}%\")"
   ]
  },
  {
   "cell_type": "code",
   "execution_count": 55,
   "id": "a385955b",
   "metadata": {},
   "outputs": [
    {
     "name": "stdout",
     "output_type": "stream",
     "text": [
      "Predicted values:\n",
      "[ 0 52 25 ... 17  2 51]\n",
      "\n",
      "Confusion Matrix: \n",
      " [[21  0  0 ...  0  0  0]\n",
      " [ 0  8  0 ...  0  0  0]\n",
      " [ 0  0 23 ...  0  0  0]\n",
      " ...\n",
      " [ 0  0  0 ... 62  3  0]\n",
      " [ 0  8  0 ... 29 16  0]\n",
      " [ 0  2  0 ...  0  5  1]]\n",
      "\n",
      "Classification Report: \n",
      "               precision    recall  f1-score   support\n",
      "\n",
      "           0       0.20      0.28      0.23        75\n",
      "           1       0.08      0.16      0.11        51\n",
      "           2       0.32      0.35      0.33        66\n",
      "           3       0.31      0.25      0.28        63\n",
      "           4       0.30      0.42      0.35        72\n",
      "           5       0.18      0.36      0.24        67\n",
      "           6       0.13      0.20      0.16        66\n",
      "           7       0.44      0.55      0.49        67\n",
      "           8       0.47      0.61      0.54        62\n",
      "           9       0.36      0.72      0.48        58\n",
      "          10       0.00      0.00      0.00        69\n",
      "          11       0.29      0.23      0.26        65\n",
      "          12       0.15      0.10      0.12        78\n",
      "          13       0.09      0.04      0.06        67\n",
      "          14       0.28      0.28      0.28        65\n",
      "          15       0.22      0.23      0.23        74\n",
      "          16       0.07      0.08      0.07        64\n",
      "          17       0.26      0.30      0.28        61\n",
      "          18       0.19      0.24      0.21        68\n",
      "          19       0.23      0.37      0.28        63\n",
      "          20       0.26      0.65      0.37        71\n",
      "          21       0.25      0.17      0.21        63\n",
      "          22       0.06      0.10      0.08        58\n",
      "          23       0.34      0.81      0.48        73\n",
      "          24       0.28      0.08      0.13        60\n",
      "          25       0.27      0.32      0.29        76\n",
      "          26       0.00      0.00      0.00        55\n",
      "          27       0.33      0.49      0.40        76\n",
      "          28       0.60      0.25      0.35        72\n",
      "          29       0.32      0.36      0.34        69\n",
      "          30       0.46      0.38      0.41        69\n",
      "          31       0.11      0.10      0.11        68\n",
      "          32       0.56      0.25      0.34        61\n",
      "          33       0.11      0.06      0.08        49\n",
      "          34       0.00      0.00      0.00        63\n",
      "          35       0.42      0.06      0.10        86\n",
      "          36       0.09      0.05      0.07        77\n",
      "          37       0.29      0.23      0.26        53\n",
      "          38       0.16      0.04      0.07        67\n",
      "          39       0.02      0.01      0.02        79\n",
      "          40       0.34      0.60      0.43        77\n",
      "          41       0.11      0.05      0.06        65\n",
      "          42       0.41      0.56      0.47        55\n",
      "          43       0.06      0.01      0.02        69\n",
      "          44       0.25      0.10      0.14        70\n",
      "          45       0.03      0.04      0.04        67\n",
      "          46       0.24      0.16      0.19        62\n",
      "          47       0.11      0.14      0.12        66\n",
      "          48       0.14      0.07      0.09        71\n",
      "          49       0.11      0.03      0.05        64\n",
      "          50       0.06      0.03      0.03        80\n",
      "          51       0.33      0.79      0.46        78\n",
      "          52       0.12      0.25      0.17        63\n",
      "          53       1.00      0.01      0.03        71\n",
      "\n",
      "    accuracy                           0.24      3624\n",
      "   macro avg       0.24      0.24      0.21      3624\n",
      "weighted avg       0.24      0.24      0.21      3624\n",
      "\n",
      "\n",
      "Accuracy : 24.28%\n"
     ]
    }
   ],
   "source": [
    "y_predict=log.predict(xc_test)\n",
    "print(\"Predicted values:\") \n",
    "print(y_predict)\n",
    "cal_accuracy(yc_test, y_predict)"
   ]
  },
  {
   "cell_type": "code",
   "execution_count": 56,
   "id": "e0c72c0f",
   "metadata": {},
   "outputs": [
    {
     "name": "stdout",
     "output_type": "stream",
     "text": [
      "Accuracy of Train Dataset: 5.66%\n",
      "Accuracy of Test Dataset: 5.33%\n"
     ]
    }
   ],
   "source": [
    "from sklearn.tree import DecisionTreeClassifier\n",
    "tree = DecisionTreeClassifier(criterion = \"gini\", random_state =100,max_depth=3, min_samples_leaf=5)\n",
    "tree.fit(xc_train, yc_train)\n",
    "print(f\"Accuracy of Train Dataset: {tree.score(xc_train,yc_train)*100:0.2f}%\")\n",
    "print(f\"Accuracy of Test Dataset: {tree.score(xc_test,yc_test)*100:0.2f}%\")"
   ]
  },
  {
   "cell_type": "code",
   "execution_count": 57,
   "id": "dccbb371",
   "metadata": {},
   "outputs": [
    {
     "name": "stdout",
     "output_type": "stream",
     "text": [
      "Predicted values:\n",
      "[26 11 29 ... 26 26 26]\n",
      "\n",
      "Confusion Matrix: \n",
      " [[ 0  0  0 ...  0  0  0]\n",
      " [ 0  0  0 ...  0  0  0]\n",
      " [ 0  0  0 ...  0  0  0]\n",
      " ...\n",
      " [ 0  0  0 ... 43  0  0]\n",
      " [ 0  0  0 ...  0 30  0]\n",
      " [ 0  0  0 ...  0  0  0]]\n",
      "\n",
      "Classification Report: \n",
      "               precision    recall  f1-score   support\n",
      "\n",
      "           0       0.00      0.00      0.00        75\n",
      "           1       0.00      0.00      0.00        51\n",
      "           2       0.00      0.00      0.00        66\n",
      "           3       0.00      0.00      0.00        63\n",
      "           4       0.00      0.00      0.00        72\n",
      "           5       0.00      0.00      0.00        67\n",
      "           6       0.00      0.00      0.00        66\n",
      "           7       0.00      0.00      0.00        67\n",
      "           8       0.00      0.00      0.00        62\n",
      "           9       0.00      0.00      0.00        58\n",
      "          10       0.00      0.00      0.00        69\n",
      "          11       0.19      0.46      0.26        65\n",
      "          12       0.00      0.00      0.00        78\n",
      "          13       0.00      0.00      0.00        67\n",
      "          14       0.00      0.00      0.00        65\n",
      "          15       0.00      0.00      0.00        74\n",
      "          16       0.00      0.00      0.00        64\n",
      "          17       0.00      0.00      0.00        61\n",
      "          18       0.00      0.00      0.00        68\n",
      "          19       0.00      0.00      0.00        63\n",
      "          20       0.00      0.00      0.00        71\n",
      "          21       0.00      0.00      0.00        63\n",
      "          22       0.00      0.00      0.00        58\n",
      "          23       0.00      0.00      0.00        73\n",
      "          24       0.00      0.00      0.00        60\n",
      "          25       0.00      0.00      0.00        76\n",
      "          26       0.02      1.00      0.03        55\n",
      "          27       0.00      0.00      0.00        76\n",
      "          28       0.00      0.00      0.00        72\n",
      "          29       0.32      0.51      0.40        69\n",
      "          30       0.00      0.00      0.00        69\n",
      "          31       0.00      0.00      0.00        68\n",
      "          32       0.00      0.00      0.00        61\n",
      "          33       0.00      0.00      0.00        49\n",
      "          34       0.00      0.00      0.00        63\n",
      "          35       0.00      0.00      0.00        86\n",
      "          36       0.00      0.00      0.00        77\n",
      "          37       0.00      0.00      0.00        53\n",
      "          38       0.00      0.00      0.00        67\n",
      "          39       0.00      0.00      0.00        79\n",
      "          40       0.00      0.00      0.00        77\n",
      "          41       0.00      0.00      0.00        65\n",
      "          42       0.00      0.00      0.00        55\n",
      "          43       0.00      0.00      0.00        69\n",
      "          44       0.00      0.00      0.00        70\n",
      "          45       0.00      0.00      0.00        67\n",
      "          46       0.00      0.00      0.00        62\n",
      "          47       0.00      0.00      0.00        66\n",
      "          48       0.00      0.00      0.00        71\n",
      "          49       0.00      0.00      0.00        64\n",
      "          50       0.00      0.00      0.00        80\n",
      "          51       1.00      0.55      0.71        78\n",
      "          52       0.17      0.48      0.25        63\n",
      "          53       0.00      0.00      0.00        71\n",
      "\n",
      "    accuracy                           0.05      3624\n",
      "   macro avg       0.03      0.06      0.03      3624\n",
      "weighted avg       0.03      0.05      0.03      3624\n",
      "\n",
      "\n",
      "Accuracy : 5.33%\n"
     ]
    }
   ],
   "source": [
    "y_predict=tree.predict(xc_test)\n",
    "print(\"Predicted values:\") \n",
    "print(y_predict)\n",
    "cal_accuracy(yc_test, y_predict)"
   ]
  },
  {
   "cell_type": "code",
   "execution_count": 58,
   "id": "1615234a",
   "metadata": {},
   "outputs": [
    {
     "name": "stdout",
     "output_type": "stream",
     "text": [
      "Accuracy of Train Dataset: 63.01%\n",
      "Accuracy of Test Dataset: 62.00%\n"
     ]
    }
   ],
   "source": [
    "from sklearn import svm\n",
    "svm_rbf = svm.SVC(kernel='rbf')\n",
    "svm_rbf.fit(xc_train,yc_train)\n",
    "print(f\"Accuracy of Train Dataset: {svm_rbf.score(xc_train,yc_train)*100:0.2f}%\")\n",
    "print(f\"Accuracy of Test Dataset: {svm_rbf.score(xc_test,yc_test)*100:0.2f}%\")"
   ]
  },
  {
   "cell_type": "code",
   "execution_count": 59,
   "id": "0d384025",
   "metadata": {},
   "outputs": [
    {
     "name": "stdout",
     "output_type": "stream",
     "text": [
      "Predicted values:\n",
      "[14 18 15 ... 49 43 51]\n",
      "\n",
      "Confusion Matrix: \n",
      " [[67  0  0 ...  0  0  0]\n",
      " [ 0 26  0 ...  0  0  0]\n",
      " [ 0  0 51 ...  0  0  0]\n",
      " ...\n",
      " [ 0  0  0 ... 73  0  0]\n",
      " [ 0  0  0 ... 30 31  0]\n",
      " [ 0  0  1 ...  0  0 25]]\n",
      "\n",
      "Classification Report: \n",
      "               precision    recall  f1-score   support\n",
      "\n",
      "           0       0.52      0.89      0.66        75\n",
      "           1       0.38      0.51      0.43        51\n",
      "           2       0.80      0.77      0.78        66\n",
      "           3       0.70      0.63      0.67        63\n",
      "           4       0.77      0.60      0.67        72\n",
      "           5       0.67      0.42      0.51        67\n",
      "           6       0.87      0.71      0.78        66\n",
      "           7       0.75      0.72      0.73        67\n",
      "           8       0.88      0.95      0.91        62\n",
      "           9       0.51      0.71      0.59        58\n",
      "          10       0.62      0.54      0.57        69\n",
      "          11       0.62      0.71      0.66        65\n",
      "          12       0.75      0.68      0.71        78\n",
      "          13       0.58      0.27      0.37        67\n",
      "          14       0.61      0.78      0.69        65\n",
      "          15       0.86      0.86      0.86        74\n",
      "          16       0.75      0.75      0.75        64\n",
      "          17       0.69      0.72      0.70        61\n",
      "          18       0.70      0.71      0.70        68\n",
      "          19       0.62      0.49      0.55        63\n",
      "          20       0.57      0.72      0.63        71\n",
      "          21       0.45      0.40      0.42        63\n",
      "          22       0.69      0.76      0.72        58\n",
      "          23       0.54      0.81      0.65        73\n",
      "          24       0.38      0.35      0.37        60\n",
      "          25       0.64      0.45      0.53        76\n",
      "          26       0.37      0.29      0.33        55\n",
      "          27       0.84      0.49      0.62        76\n",
      "          28       0.79      0.75      0.77        72\n",
      "          29       0.81      0.51      0.62        69\n",
      "          30       0.69      0.74      0.71        69\n",
      "          31       0.49      0.47      0.48        68\n",
      "          32       0.47      0.66      0.55        61\n",
      "          33       0.53      0.57      0.55        49\n",
      "          34       0.45      0.40      0.42        63\n",
      "          35       0.73      0.66      0.70        86\n",
      "          36       0.57      0.44      0.50        77\n",
      "          37       0.62      0.75      0.68        53\n",
      "          38       0.58      0.75      0.65        67\n",
      "          39       0.57      0.65      0.60        79\n",
      "          40       0.61      0.90      0.72        77\n",
      "          41       0.66      0.60      0.63        65\n",
      "          42       0.71      0.82      0.76        55\n",
      "          43       0.62      0.51      0.56        69\n",
      "          44       0.82      0.57      0.67        70\n",
      "          45       0.95      0.54      0.69        67\n",
      "          46       0.68      0.87      0.77        62\n",
      "          47       0.55      0.59      0.57        66\n",
      "          48       0.68      0.68      0.68        71\n",
      "          49       0.38      0.39      0.38        64\n",
      "          50       0.78      0.17      0.29        80\n",
      "          51       0.35      0.94      0.51        78\n",
      "          52       0.70      0.49      0.58        63\n",
      "          53       0.83      0.35      0.50        71\n",
      "\n",
      "    accuracy                           0.62      3624\n",
      "   macro avg       0.64      0.62      0.61      3624\n",
      "weighted avg       0.65      0.62      0.61      3624\n",
      "\n",
      "\n",
      "Accuracy : 62.00%\n"
     ]
    }
   ],
   "source": [
    "y_predict=svm_rbf.predict(xc_test)\n",
    "print(\"Predicted values:\") \n",
    "print(y_predict)\n",
    "cal_accuracy(yc_test, y_predict)\n"
   ]
  },
  {
   "cell_type": "code",
   "execution_count": 60,
   "id": "b6089171",
   "metadata": {},
   "outputs": [
    {
     "name": "stdout",
     "output_type": "stream",
     "text": [
      "Accuracy of Train Dataset: 100.00%\n",
      "Accuracy of Test Dataset: 91.00%\n"
     ]
    }
   ],
   "source": [
    "from sklearn.ensemble import RandomForestClassifier\n",
    "forest=RandomForestClassifier(n_estimators=100)\n",
    "forest.fit(xc_train,yc_train)\n",
    "print(f\"Accuracy of Train Dataset: {forest.score(xc_train,yc_train)*100:0.2f}%\")\n",
    "print(f\"Accuracy of Test Dataset: {forest.score(xc_test,yc_test)*100:0.2f}%\")"
   ]
  },
  {
   "cell_type": "code",
   "execution_count": 61,
   "id": "b1424587",
   "metadata": {},
   "outputs": [
    {
     "name": "stdout",
     "output_type": "stream",
     "text": [
      "Predicted values:\n",
      "\n",
      "[14 18 15 ... 17 43 43]\n",
      "\n",
      "Confusion Matrix: \n",
      " [[73  0  0 ...  0  0  0]\n",
      " [ 0 42  0 ...  0  0  1]\n",
      " [ 0  0 66 ...  0  0  0]\n",
      " ...\n",
      " [ 0  0  0 ... 78  0  0]\n",
      " [ 0  0  0 ...  1 62  0]\n",
      " [ 0  0  0 ...  0  0 62]]\n",
      "\n",
      "Classification Report: \n",
      "               precision    recall  f1-score   support\n",
      "\n",
      "           0       0.90      0.97      0.94        75\n",
      "           1       0.71      0.82      0.76        51\n",
      "           2       0.97      1.00      0.99        66\n",
      "           3       0.93      0.86      0.89        63\n",
      "           4       0.94      0.90      0.92        72\n",
      "           5       0.96      0.81      0.88        67\n",
      "           6       1.00      1.00      1.00        66\n",
      "           7       0.97      0.97      0.97        67\n",
      "           8       1.00      1.00      1.00        62\n",
      "           9       0.85      0.90      0.87        58\n",
      "          10       0.91      0.87      0.89        69\n",
      "          11       0.91      0.98      0.95        65\n",
      "          12       0.95      0.97      0.96        78\n",
      "          13       0.90      0.78      0.83        67\n",
      "          14       0.95      0.92      0.94        65\n",
      "          15       1.00      1.00      1.00        74\n",
      "          16       0.95      0.98      0.97        64\n",
      "          17       0.85      0.90      0.87        61\n",
      "          18       0.90      0.91      0.91        68\n",
      "          19       0.81      0.90      0.86        63\n",
      "          20       0.99      0.96      0.97        71\n",
      "          21       0.86      0.86      0.86        63\n",
      "          22       1.00      0.98      0.99        58\n",
      "          23       0.85      0.92      0.88        73\n",
      "          24       0.79      0.70      0.74        60\n",
      "          25       0.99      1.00      0.99        76\n",
      "          26       0.86      0.80      0.83        55\n",
      "          27       0.95      0.99      0.97        76\n",
      "          28       1.00      0.93      0.96        72\n",
      "          29       0.97      0.99      0.98        69\n",
      "          30       0.97      0.94      0.96        69\n",
      "          31       0.63      0.69      0.66        68\n",
      "          32       0.90      0.90      0.90        61\n",
      "          33       0.94      0.94      0.94        49\n",
      "          34       1.00      0.95      0.98        63\n",
      "          35       0.97      0.99      0.98        86\n",
      "          36       0.89      0.75      0.82        77\n",
      "          37       0.84      0.91      0.87        53\n",
      "          38       0.88      0.90      0.89        67\n",
      "          39       0.95      0.94      0.94        79\n",
      "          40       0.85      0.88      0.87        77\n",
      "          41       0.84      0.89      0.87        65\n",
      "          42       0.93      0.98      0.96        55\n",
      "          43       0.86      0.90      0.88        69\n",
      "          44       0.96      0.93      0.94        70\n",
      "          45       0.96      0.99      0.97        67\n",
      "          46       0.97      0.95      0.96        62\n",
      "          47       0.85      0.85      0.85        66\n",
      "          48       0.87      0.85      0.86        71\n",
      "          49       0.87      0.91      0.89        64\n",
      "          50       0.68      0.65      0.67        80\n",
      "          51       0.99      1.00      0.99        78\n",
      "          52       0.98      0.98      0.98        63\n",
      "          53       0.94      0.87      0.91        71\n",
      "\n",
      "    accuracy                           0.91      3624\n",
      "   macro avg       0.91      0.91      0.91      3624\n",
      "weighted avg       0.91      0.91      0.91      3624\n",
      "\n",
      "\n",
      "Accuracy : 91.00%\n"
     ]
    }
   ],
   "source": [
    "y_predict=forest.predict(xc_test)\n",
    "print(\"Predicted values:\\n\")\n",
    "print(y_predict)\n",
    "cal_accuracy(yc_test, y_predict)"
   ]
  },
  {
   "cell_type": "code",
   "execution_count": 62,
   "id": "4d9363f3",
   "metadata": {},
   "outputs": [
    {
     "name": "stdout",
     "output_type": "stream",
     "text": [
      "Accuracy of Train Dataset: 98.19%\n",
      "Accuracy of Test Dataset: 83.55%\n"
     ]
    }
   ],
   "source": [
    "from sklearn.ensemble import GradientBoostingClassifier\n",
    "gbc=GradientBoostingClassifier(n_estimators=100)\n",
    "gbc.fit(xc_train,yc_train)\n",
    "print(f\"Accuracy of Train Dataset: {gbc.score(xc_train,yc_train)*100:0.2f}%\")\n",
    "print(f\"Accuracy of Test Dataset: {gbc.score(xc_test,yc_test)*100:0.2f}%\")"
   ]
  },
  {
   "cell_type": "code",
   "execution_count": 63,
   "id": "b0b2379c",
   "metadata": {},
   "outputs": [
    {
     "name": "stdout",
     "output_type": "stream",
     "text": [
      "Predicted values:\n",
      "\n",
      "[14 18 15 ... 32 43 44]\n",
      "\n",
      "Confusion Matrix: \n",
      " [[63  0  0 ...  0  0  0]\n",
      " [ 0 34  0 ...  0  0  0]\n",
      " [ 0  0 59 ...  0  0  0]\n",
      " ...\n",
      " [ 0  0  0 ... 78  0  0]\n",
      " [ 0  0  0 ...  0 62  0]\n",
      " [ 0  0  0 ...  0  0 54]]\n",
      "\n",
      "Classification Report: \n",
      "               precision    recall  f1-score   support\n",
      "\n",
      "           0       0.89      0.84      0.86        75\n",
      "           1       0.68      0.67      0.67        51\n",
      "           2       0.92      0.89      0.91        66\n",
      "           3       0.82      0.79      0.81        63\n",
      "           4       0.89      0.78      0.83        72\n",
      "           5       0.84      0.70      0.76        67\n",
      "           6       0.98      0.91      0.94        66\n",
      "           7       0.90      0.94      0.92        67\n",
      "           8       0.94      0.95      0.94        62\n",
      "           9       0.80      0.88      0.84        58\n",
      "          10       0.69      0.78      0.73        69\n",
      "          11       0.80      0.86      0.83        65\n",
      "          12       0.91      0.92      0.92        78\n",
      "          13       0.84      0.79      0.82        67\n",
      "          14       0.80      0.82      0.81        65\n",
      "          15       0.99      0.96      0.97        74\n",
      "          16       0.94      0.91      0.92        64\n",
      "          17       0.90      0.77      0.83        61\n",
      "          18       0.86      0.81      0.83        68\n",
      "          19       0.74      0.78      0.76        63\n",
      "          20       0.96      0.92      0.94        71\n",
      "          21       0.63      0.67      0.65        63\n",
      "          22       0.90      0.97      0.93        58\n",
      "          23       0.79      0.84      0.81        73\n",
      "          24       0.66      0.52      0.58        60\n",
      "          25       0.95      0.93      0.94        76\n",
      "          26       0.67      0.64      0.65        55\n",
      "          27       0.86      0.86      0.86        76\n",
      "          28       0.92      0.85      0.88        72\n",
      "          29       0.97      0.99      0.98        69\n",
      "          30       0.87      0.87      0.87        69\n",
      "          31       0.59      0.65      0.62        68\n",
      "          32       0.72      0.84      0.77        61\n",
      "          33       0.83      0.92      0.87        49\n",
      "          34       0.87      0.94      0.90        63\n",
      "          35       0.88      0.94      0.91        86\n",
      "          36       0.88      0.66      0.76        77\n",
      "          37       0.80      0.81      0.80        53\n",
      "          38       0.80      0.84      0.82        67\n",
      "          39       0.80      0.89      0.84        79\n",
      "          40       0.84      0.82      0.83        77\n",
      "          41       0.76      0.80      0.78        65\n",
      "          42       0.89      0.93      0.91        55\n",
      "          43       0.85      0.87      0.86        69\n",
      "          44       0.83      0.84      0.84        70\n",
      "          45       0.93      0.96      0.94        67\n",
      "          46       0.92      0.94      0.93        62\n",
      "          47       0.76      0.77      0.77        66\n",
      "          48       0.68      0.73      0.70        71\n",
      "          49       0.76      0.89      0.82        64\n",
      "          50       0.55      0.53      0.54        80\n",
      "          51       1.00      1.00      1.00        78\n",
      "          52       0.97      0.98      0.98        63\n",
      "          53       0.89      0.76      0.82        71\n",
      "\n",
      "    accuracy                           0.84      3624\n",
      "   macro avg       0.84      0.83      0.83      3624\n",
      "weighted avg       0.84      0.84      0.84      3624\n",
      "\n",
      "\n",
      "Accuracy : 83.55%\n"
     ]
    }
   ],
   "source": [
    "y_predict=gbc.predict(xc_test)\n",
    "print(\"Predicted values:\\n\")\n",
    "print(y_predict)\n",
    "cal_accuracy(yc_test, y_predict)"
   ]
  },
  {
   "cell_type": "code",
   "execution_count": 64,
   "id": "c5b77782",
   "metadata": {},
   "outputs": [
    {
     "name": "stdout",
     "output_type": "stream",
     "text": [
      "Accuracy of Train Dataset: 57.02%\n",
      "Accuracy of Test Dataset: 52.51%\n"
     ]
    }
   ],
   "source": [
    "from sklearn.ensemble import ExtraTreesClassifier\n",
    "tree_ex=ExtraTreesClassifier(criterion = \"entropy\", random_state =100,max_depth=3, min_samples_leaf=5)\n",
    "tree_ex.fit(xc_train,yc_train)\n",
    "print(f\"Accuracy of Train Dataset: {tree_ex.score(xc_train,yc_train)*100:0.2f}%\")\n",
    "print(f\"Accuracy of Test Dataset: {tree_ex.score(xc_test,yc_test)*100:0.2f}%\")"
   ]
  },
  {
   "cell_type": "code",
   "execution_count": 65,
   "id": "e7088f10",
   "metadata": {},
   "outputs": [
    {
     "name": "stdout",
     "output_type": "stream",
     "text": [
      "Predicted values:\n",
      "\n",
      "[23 51 51 ...  8 40 51]\n",
      "\n",
      "Confusion Matrix: \n",
      " [[54  0  0 ...  0  0  0]\n",
      " [ 0 26  0 ...  1  0  0]\n",
      " [ 0  0 45 ...  0  0  0]\n",
      " ...\n",
      " [ 0  0  0 ... 78  0  0]\n",
      " [ 0  0  0 ... 31 32  0]\n",
      " [ 0  2  0 ...  2  0 24]]\n",
      "\n",
      "Classification Report: \n",
      "               precision    recall  f1-score   support\n",
      "\n",
      "           0       0.57      0.72      0.64        75\n",
      "           1       0.36      0.51      0.42        51\n",
      "           2       0.76      0.68      0.72        66\n",
      "           3       0.49      0.79      0.60        63\n",
      "           4       0.77      0.42      0.54        72\n",
      "           5       0.90      0.40      0.56        67\n",
      "           6       0.77      0.55      0.64        66\n",
      "           7       0.49      0.61      0.54        67\n",
      "           8       0.58      0.94      0.72        62\n",
      "           9       0.31      0.84      0.46        58\n",
      "          10       0.67      0.26      0.38        69\n",
      "          11       0.63      0.80      0.71        65\n",
      "          12       0.92      0.42      0.58        78\n",
      "          13       0.38      0.27      0.31        67\n",
      "          14       0.83      0.52      0.64        65\n",
      "          15       0.84      0.65      0.73        74\n",
      "          16       0.87      0.84      0.86        64\n",
      "          17       0.68      0.70      0.69        61\n",
      "          18       0.83      0.50      0.62        68\n",
      "          19       0.79      0.24      0.37        63\n",
      "          20       0.64      0.66      0.65        71\n",
      "          21       0.68      0.30      0.42        63\n",
      "          22       0.62      0.69      0.66        58\n",
      "          23       0.52      0.47      0.49        73\n",
      "          24       0.42      0.37      0.39        60\n",
      "          25       0.48      0.39      0.43        76\n",
      "          26       0.29      0.51      0.37        55\n",
      "          27       0.84      0.34      0.49        76\n",
      "          28       0.66      0.72      0.69        72\n",
      "          29       0.69      0.35      0.46        69\n",
      "          30       0.43      0.62      0.51        69\n",
      "          31       0.42      0.53      0.47        68\n",
      "          32       0.85      0.57      0.69        61\n",
      "          33       0.49      0.39      0.43        49\n",
      "          34       0.57      0.62      0.59        63\n",
      "          35       1.00      0.14      0.24        86\n",
      "          36       0.74      0.26      0.38        77\n",
      "          37       0.40      0.83      0.54        53\n",
      "          38       0.60      0.22      0.33        67\n",
      "          39       0.91      0.52      0.66        79\n",
      "          40       0.45      0.92      0.61        77\n",
      "          41       0.77      0.31      0.44        65\n",
      "          42       0.71      0.73      0.72        55\n",
      "          43       0.59      0.43      0.50        69\n",
      "          44       0.59      0.39      0.47        70\n",
      "          45       0.89      0.46      0.61        67\n",
      "          46       0.75      0.48      0.59        62\n",
      "          47       0.42      0.53      0.47        66\n",
      "          48       0.82      0.52      0.64        71\n",
      "          49       0.29      0.89      0.44        64\n",
      "          50       0.00      0.00      0.00        80\n",
      "          51       0.19      1.00      0.31        78\n",
      "          52       0.84      0.51      0.63        63\n",
      "          53       0.86      0.34      0.48        71\n",
      "\n",
      "    accuracy                           0.53      3624\n",
      "   macro avg       0.63      0.53      0.53      3624\n",
      "weighted avg       0.63      0.53      0.52      3624\n",
      "\n",
      "\n",
      "Accuracy : 52.51%\n"
     ]
    }
   ],
   "source": [
    "y_predict=tree_ex.predict(xc_test)\n",
    "print(\"Predicted values:\\n\")\n",
    "print(y_predict)\n",
    "cal_accuracy(yc_test, y_predict)"
   ]
  },
  {
   "cell_type": "code",
   "execution_count": 66,
   "id": "60a9ebab",
   "metadata": {},
   "outputs": [
    {
     "name": "stdout",
     "output_type": "stream",
     "text": [
      "Accuracy of Train Dataset: 88.41%\n",
      "Accuracy of Test Dataset: 83.03%\n"
     ]
    }
   ],
   "source": [
    "from sklearn.neighbors import KNeighborsClassifier\n",
    "knn=KNeighborsClassifier()\n",
    "knn.fit(xc_train,yc_train)\n",
    "print(f\"Accuracy of Train Dataset: {knn.score(xc_train,yc_train)*100:0.2f}%\")\n",
    "print(f\"Accuracy of Test Dataset: {knn.score(xc_test,yc_test)*100:0.2f}%\")"
   ]
  },
  {
   "cell_type": "code",
   "execution_count": 67,
   "id": "cf821d3e",
   "metadata": {},
   "outputs": [
    {
     "name": "stdout",
     "output_type": "stream",
     "text": [
      "Predicted values:\n",
      "\n",
      "[14 18 15 ... 41 43 43]\n",
      "\n",
      "Confusion Matrix: \n",
      " [[67  0  0 ...  0  0  0]\n",
      " [ 0 38  0 ...  0  0  0]\n",
      " [ 0  0 65 ...  0  0  0]\n",
      " ...\n",
      " [ 0  0  0 ... 77  0  0]\n",
      " [ 0  0  0 ...  0 58  0]\n",
      " [ 0  0  0 ...  0  0 46]]\n",
      "\n",
      "Classification Report: \n",
      "               precision    recall  f1-score   support\n",
      "\n",
      "           0       0.83      0.89      0.86        75\n",
      "           1       0.60      0.75      0.67        51\n",
      "           2       0.93      0.98      0.96        66\n",
      "           3       0.76      0.79      0.78        63\n",
      "           4       0.88      0.85      0.87        72\n",
      "           5       0.84      0.72      0.77        67\n",
      "           6       0.98      0.97      0.98        66\n",
      "           7       0.90      0.96      0.93        67\n",
      "           8       0.94      0.95      0.94        62\n",
      "           9       0.71      0.79      0.75        58\n",
      "          10       0.85      0.84      0.85        69\n",
      "          11       0.77      0.92      0.84        65\n",
      "          12       0.86      0.85      0.85        78\n",
      "          13       0.85      0.69      0.76        67\n",
      "          14       0.76      0.80      0.78        65\n",
      "          15       0.99      0.99      0.99        74\n",
      "          16       0.89      0.86      0.87        64\n",
      "          17       0.79      0.80      0.80        61\n",
      "          18       0.85      0.81      0.83        68\n",
      "          19       0.77      0.86      0.81        63\n",
      "          20       0.89      0.89      0.89        71\n",
      "          21       0.57      0.73      0.64        63\n",
      "          22       0.97      0.97      0.97        58\n",
      "          23       0.78      0.88      0.83        73\n",
      "          24       0.64      0.57      0.60        60\n",
      "          25       0.95      0.99      0.97        76\n",
      "          26       0.73      0.80      0.77        55\n",
      "          27       0.92      0.86      0.88        76\n",
      "          28       0.94      0.86      0.90        72\n",
      "          29       0.95      0.86      0.90        69\n",
      "          30       0.89      0.83      0.86        69\n",
      "          31       0.52      0.69      0.59        68\n",
      "          32       0.80      0.77      0.78        61\n",
      "          33       0.81      0.86      0.83        49\n",
      "          34       0.92      0.89      0.90        63\n",
      "          35       0.90      0.93      0.91        86\n",
      "          36       0.81      0.61      0.70        77\n",
      "          37       0.80      0.81      0.80        53\n",
      "          38       0.83      0.85      0.84        67\n",
      "          39       0.83      0.80      0.81        79\n",
      "          40       0.83      0.84      0.84        77\n",
      "          41       0.77      0.82      0.79        65\n",
      "          42       0.85      0.93      0.89        55\n",
      "          43       0.78      0.72      0.75        69\n",
      "          44       0.89      0.89      0.89        70\n",
      "          45       0.96      0.97      0.96        67\n",
      "          46       0.86      0.97      0.91        62\n",
      "          47       0.80      0.68      0.74        66\n",
      "          48       0.80      0.79      0.79        71\n",
      "          49       0.81      0.80      0.80        64\n",
      "          50       0.54      0.41      0.47        80\n",
      "          51       0.95      0.99      0.97        78\n",
      "          52       0.94      0.92      0.93        63\n",
      "          53       0.92      0.65      0.76        71\n",
      "\n",
      "    accuracy                           0.83      3624\n",
      "   macro avg       0.83      0.83      0.83      3624\n",
      "weighted avg       0.83      0.83      0.83      3624\n",
      "\n",
      "\n",
      "Accuracy : 83.03%\n"
     ]
    }
   ],
   "source": [
    "y_predict=knn.predict(xc_test)\n",
    "print(\"Predicted values:\\n\")\n",
    "print(y_predict)\n",
    "cal_accuracy(yc_test, y_predict)"
   ]
  },
  {
   "cell_type": "code",
   "execution_count": 68,
   "id": "f06ec948",
   "metadata": {},
   "outputs": [
    {
     "name": "stdout",
     "output_type": "stream",
     "text": [
      "Accuracy of Train Dataset: 5.30%\n",
      "Accuracy of Test Dataset: 5.08%\n"
     ]
    }
   ],
   "source": [
    "from sklearn.naive_bayes import GaussianNB\n",
    "gnb=GaussianNB()\n",
    "gnb.fit(xc_train,yc_train)\n",
    "print(f\"Accuracy of Train Dataset: {gnb.score(xc_train,yc_train)*100:0.2f}%\")\n",
    "print(f\"Accuracy of Test Dataset: {gnb.score(xc_test,yc_test)*100:0.2f}%\")"
   ]
  },
  {
   "cell_type": "code",
   "execution_count": 69,
   "id": "16ef4625",
   "metadata": {},
   "outputs": [
    {
     "name": "stdout",
     "output_type": "stream",
     "text": [
      "Predicted values:\n",
      "\n",
      "[49 51 51 ...  0  6 52]\n",
      "\n",
      "Confusion Matrix: \n",
      " [[ 0  0  0 ...  0  0  0]\n",
      " [ 0  1  0 ...  0 18  0]\n",
      " [ 9  0  0 ...  0  0  0]\n",
      " ...\n",
      " [ 0  0  0 ... 73  1  0]\n",
      " [ 0  3  0 ... 30  2  0]\n",
      " [ 4  0  0 ...  4 22  0]]\n",
      "\n",
      "Classification Report: \n",
      "               precision    recall  f1-score   support\n",
      "\n",
      "           0       0.00      0.00      0.00        75\n",
      "           1       0.02      0.02      0.02        51\n",
      "           2       0.00      0.00      0.00        66\n",
      "           3       0.08      0.05      0.06        63\n",
      "           4       1.00      0.01      0.03        72\n",
      "           5       0.30      0.10      0.16        67\n",
      "           6       0.02      0.05      0.03        66\n",
      "           7       0.03      0.01      0.02        67\n",
      "           8       0.00      0.00      0.00        62\n",
      "           9       0.11      0.22      0.14        58\n",
      "          10       0.00      0.00      0.00        69\n",
      "          11       0.00      0.00      0.00        65\n",
      "          12       0.00      0.00      0.00        78\n",
      "          13       0.00      0.00      0.00        67\n",
      "          14       0.00      0.00      0.00        65\n",
      "          15       0.00      0.00      0.00        74\n",
      "          16       0.17      0.06      0.09        64\n",
      "          17       0.07      0.07      0.07        61\n",
      "          18       0.00      0.00      0.00        68\n",
      "          19       0.00      0.00      0.00        63\n",
      "          20       0.00      0.00      0.00        71\n",
      "          21       0.00      0.00      0.00        63\n",
      "          22       0.00      0.00      0.00        58\n",
      "          23       0.01      0.01      0.01        73\n",
      "          24       0.00      0.00      0.00        60\n",
      "          25       0.01      0.01      0.01        76\n",
      "          26       0.08      0.02      0.03        55\n",
      "          27       0.00      0.00      0.00        76\n",
      "          28       0.00      0.00      0.00        72\n",
      "          29       0.04      0.04      0.04        69\n",
      "          30       0.33      0.03      0.05        69\n",
      "          31       0.00      0.00      0.00        68\n",
      "          32       0.00      0.00      0.00        61\n",
      "          33       0.00      0.00      0.00        49\n",
      "          34       0.04      0.06      0.05        63\n",
      "          35       0.00      0.00      0.00        86\n",
      "          36       0.00      0.00      0.00        77\n",
      "          37       0.09      0.04      0.05        53\n",
      "          38       0.00      0.00      0.00        67\n",
      "          39       0.13      0.20      0.16        79\n",
      "          40       0.00      0.00      0.00        77\n",
      "          41       0.00      0.00      0.00        65\n",
      "          42       0.05      0.02      0.03        55\n",
      "          43       0.00      0.00      0.00        69\n",
      "          44       0.00      0.00      0.00        70\n",
      "          45       0.00      0.00      0.00        67\n",
      "          46       0.00      0.00      0.00        62\n",
      "          47       0.03      0.02      0.02        66\n",
      "          48       0.03      0.04      0.04        71\n",
      "          49       0.04      0.58      0.07        64\n",
      "          50       0.00      0.00      0.00        80\n",
      "          51       0.16      0.94      0.28        78\n",
      "          52       0.01      0.03      0.01        63\n",
      "          53       0.00      0.00      0.00        71\n",
      "\n",
      "    accuracy                           0.05      3624\n",
      "   macro avg       0.05      0.05      0.03      3624\n",
      "weighted avg       0.05      0.05      0.03      3624\n",
      "\n",
      "\n",
      "Accuracy : 5.08%\n"
     ]
    }
   ],
   "source": [
    "y_predict=gnb.predict(xc_test)\n",
    "print(\"Predicted values:\\n\")\n",
    "print(y_predict)\n",
    "cal_accuracy(yc_test, y_predict)"
   ]
  },
  {
   "cell_type": "code",
   "execution_count": 70,
   "id": "a81015aa",
   "metadata": {},
   "outputs": [
    {
     "name": "stdout",
     "output_type": "stream",
     "text": [
      "Accuracy of Train Dataset: 6.44%\n",
      "Accuracy of Test Dataset: 5.38%\n"
     ]
    }
   ],
   "source": [
    "from sklearn.ensemble import AdaBoostClassifier\n",
    "adb=AdaBoostClassifier()\n",
    "adb.fit(xc_train,yc_train)\n",
    "print(f\"Accuracy of Train Dataset: {adb.score(xc_train,yc_train)*100:0.2f}%\")\n",
    "print(f\"Accuracy of Test Dataset: {adb.score(xc_test,yc_test)*100:0.2f}%\")"
   ]
  },
  {
   "cell_type": "code",
   "execution_count": 71,
   "id": "d0fa79c2",
   "metadata": {},
   "outputs": [
    {
     "name": "stdout",
     "output_type": "stream",
     "text": [
      "Predicted values:\n",
      "\n",
      "[23  2 22 ...  1  1  1]\n",
      "\n",
      "Confusion Matrix: \n",
      " [[ 0 33  0 ...  0  0  0]\n",
      " [ 0 50  1 ...  0  0  0]\n",
      " [ 0 37 29 ...  0  0  0]\n",
      " ...\n",
      " [ 0  0 35 ...  0  0  0]\n",
      " [ 0 33  0 ...  0  0  0]\n",
      " [ 0 65  6 ...  0  0  0]]\n",
      "\n",
      "Classification Report: \n",
      "               precision    recall  f1-score   support\n",
      "\n",
      "           0       0.00      0.00      0.00        75\n",
      "           1       0.02      0.98      0.05        51\n",
      "           2       0.06      0.44      0.10        66\n",
      "           3       0.00      0.00      0.00        63\n",
      "           4       0.00      0.00      0.00        72\n",
      "           5       0.00      0.00      0.00        67\n",
      "           6       0.00      0.00      0.00        66\n",
      "           7       0.00      0.00      0.00        67\n",
      "           8       0.00      0.00      0.00        62\n",
      "           9       0.00      0.00      0.00        58\n",
      "          10       0.00      0.00      0.00        69\n",
      "          11       0.00      0.00      0.00        65\n",
      "          12       0.00      0.00      0.00        78\n",
      "          13       0.00      0.00      0.00        67\n",
      "          14       0.00      0.00      0.00        65\n",
      "          15       0.00      0.00      0.00        74\n",
      "          16       0.09      0.52      0.15        64\n",
      "          17       0.11      0.07      0.08        61\n",
      "          18       0.00      0.00      0.00        68\n",
      "          19       0.00      0.00      0.00        63\n",
      "          20       0.00      0.00      0.00        71\n",
      "          21       0.00      0.00      0.00        63\n",
      "          22       0.07      0.41      0.13        58\n",
      "          23       0.34      0.38      0.36        73\n",
      "          24       0.00      0.00      0.00        60\n",
      "          25       0.00      0.00      0.00        76\n",
      "          26       0.00      0.00      0.00        55\n",
      "          27       0.00      0.00      0.00        76\n",
      "          28       0.00      0.00      0.00        72\n",
      "          29       0.00      0.00      0.00        69\n",
      "          30       0.21      0.39      0.27        69\n",
      "          31       0.00      0.00      0.00        68\n",
      "          32       0.00      0.00      0.00        61\n",
      "          33       0.00      0.00      0.00        49\n",
      "          34       0.00      0.00      0.00        63\n",
      "          35       0.00      0.00      0.00        86\n",
      "          36       0.00      0.00      0.00        77\n",
      "          37       0.00      0.00      0.00        53\n",
      "          38       0.00      0.00      0.00        67\n",
      "          39       0.00      0.00      0.00        79\n",
      "          40       0.00      0.00      0.00        77\n",
      "          41       0.00      0.00      0.00        65\n",
      "          42       0.00      0.00      0.00        55\n",
      "          43       0.00      0.00      0.00        69\n",
      "          44       0.00      0.00      0.00        70\n",
      "          45       0.00      0.00      0.00        67\n",
      "          46       0.00      0.00      0.00        62\n",
      "          47       0.00      0.00      0.00        66\n",
      "          48       0.00      0.00      0.00        71\n",
      "          49       0.00      0.00      0.00        64\n",
      "          50       0.00      0.00      0.00        80\n",
      "          51       0.00      0.00      0.00        78\n",
      "          52       0.00      0.00      0.00        63\n",
      "          53       0.00      0.00      0.00        71\n",
      "\n",
      "    accuracy                           0.05      3624\n",
      "   macro avg       0.02      0.06      0.02      3624\n",
      "weighted avg       0.02      0.05      0.02      3624\n",
      "\n",
      "\n",
      "Accuracy : 5.38%\n"
     ]
    }
   ],
   "source": [
    "y_predict=adb.predict(xc_test)\n",
    "print(\"Predicted values:\\n\")\n",
    "print(y_predict)\n",
    "cal_accuracy(yc_test, y_predict)"
   ]
  },
  {
   "cell_type": "code",
   "execution_count": 72,
   "id": "94040687",
   "metadata": {},
   "outputs": [
    {
     "data": {
      "text/html": [
       "<div>\n",
       "<style scoped>\n",
       "    .dataframe tbody tr th:only-of-type {\n",
       "        vertical-align: middle;\n",
       "    }\n",
       "\n",
       "    .dataframe tbody tr th {\n",
       "        vertical-align: top;\n",
       "    }\n",
       "\n",
       "    .dataframe thead th {\n",
       "        text-align: right;\n",
       "    }\n",
       "</style>\n",
       "<table border=\"1\" class=\"dataframe\">\n",
       "  <thead>\n",
       "    <tr style=\"text-align: right;\">\n",
       "      <th></th>\n",
       "      <th>Model</th>\n",
       "      <th>Training Accuracy</th>\n",
       "      <th>Test Accuracy</th>\n",
       "    </tr>\n",
       "  </thead>\n",
       "  <tbody>\n",
       "    <tr>\n",
       "      <th>7</th>\n",
       "      <td>GaussianNB</td>\n",
       "      <td>0.052987</td>\n",
       "      <td>0.050773</td>\n",
       "    </tr>\n",
       "    <tr>\n",
       "      <th>2</th>\n",
       "      <td>Decision Tree</td>\n",
       "      <td>0.056575</td>\n",
       "      <td>0.053256</td>\n",
       "    </tr>\n",
       "    <tr>\n",
       "      <th>8</th>\n",
       "      <td>AdaBoost</td>\n",
       "      <td>0.064371</td>\n",
       "      <td>0.053808</td>\n",
       "    </tr>\n",
       "    <tr>\n",
       "      <th>0</th>\n",
       "      <td>Logistics Regression</td>\n",
       "      <td>0.249483</td>\n",
       "      <td>0.242826</td>\n",
       "    </tr>\n",
       "    <tr>\n",
       "      <th>5</th>\n",
       "      <td>Extra Trees</td>\n",
       "      <td>0.570167</td>\n",
       "      <td>0.525110</td>\n",
       "    </tr>\n",
       "    <tr>\n",
       "      <th>1</th>\n",
       "      <td>SVM_rbf</td>\n",
       "      <td>0.630123</td>\n",
       "      <td>0.620033</td>\n",
       "    </tr>\n",
       "    <tr>\n",
       "      <th>6</th>\n",
       "      <td>KNeighbors</td>\n",
       "      <td>0.884090</td>\n",
       "      <td>0.830298</td>\n",
       "    </tr>\n",
       "    <tr>\n",
       "      <th>4</th>\n",
       "      <td>Gradient Boosting</td>\n",
       "      <td>0.981924</td>\n",
       "      <td>0.835541</td>\n",
       "    </tr>\n",
       "    <tr>\n",
       "      <th>3</th>\n",
       "      <td>Random Forest</td>\n",
       "      <td>1.000000</td>\n",
       "      <td>0.910044</td>\n",
       "    </tr>\n",
       "  </tbody>\n",
       "</table>\n",
       "</div>"
      ],
      "text/plain": [
       "                  Model  Training Accuracy  Test Accuracy\n",
       "7            GaussianNB           0.052987       0.050773\n",
       "2         Decision Tree           0.056575       0.053256\n",
       "8              AdaBoost           0.064371       0.053808\n",
       "0  Logistics Regression           0.249483       0.242826\n",
       "5           Extra Trees           0.570167       0.525110\n",
       "1               SVM_rbf           0.630123       0.620033\n",
       "6            KNeighbors           0.884090       0.830298\n",
       "4     Gradient Boosting           0.981924       0.835541\n",
       "3         Random Forest           1.000000       0.910044"
      ]
     },
     "execution_count": 72,
     "metadata": {},
     "output_type": "execute_result"
    }
   ],
   "source": [
    "models=pd.DataFrame({'Model':['Logistics Regression','SVM_rbf','Decision Tree','Random Forest','Gradient Boosting','Extra Trees','KNeighbors','GaussianNB','AdaBoost'],\n",
    "                     'Training Accuracy':[(log.score(xc_train,yc_train)),svm_rbf.score(xc_train,yc_train),tree.score(xc_train,yc_train),forest.score(xc_train,yc_train),gbc.score(xc_train,yc_train),tree_ex.score(xc_train,yc_train),knn.score(xc_train,yc_train),gnb.score(xc_train,yc_train),adb.score(xc_train,yc_train)],\n",
    "                     'Test Accuracy':[(log.score(xc_test,yc_test)),svm_rbf.score(xc_test,yc_test),tree.score(xc_test,yc_test),forest.score(xc_test,yc_test),gbc.score(xc_test,yc_test),tree_ex.score(xc_test,yc_test),knn.score(xc_test,yc_test),gnb.score(xc_test,yc_test),adb.score(xc_test,yc_test)]})\n",
    "\n",
    "models.sort_values(by='Training Accuracy', ascending=True)"
   ]
  },
  {
   "cell_type": "code",
   "execution_count": 78,
   "id": "48a50ed1",
   "metadata": {},
   "outputs": [],
   "source": [
    "from sklearn.metrics import roc_curve, roc_auc_score\n",
    "classification_models = {\n",
    "    'KNeighboursClassfier': knn,\n",
    "    'DecisionTreeClassifier': tree,\n",
    "    'Support Vector Machine (rbf)': svm_rbf,\n",
    "    'Random Forest':forest,\n",
    "    'GradientBoostingClassifier':gbc,\n",
    "    'ExtraTreesClassifier':tree_ex,\n",
    "    'GaussianNB':gnb,\n",
    "    'AdaBoostClassifier':adb    \n",
    "    \n",
    "}\n",
    "\n",
    "regression_models = {\n",
    "    'LogisticRegression': log\n",
    "}"
   ]
  },
  {
   "cell_type": "code",
   "execution_count": 81,
   "id": "beb646be",
   "metadata": {},
   "outputs": [
    {
     "name": "stdout",
     "output_type": "stream",
     "text": [
      "KNeighboursClassfier: 77.2626931567329\n",
      "DecisionTreeClassifier: 5.32560706401766\n",
      "Support Vector Machine (rbf): 78.33885209713024\n",
      "Random Forest: 91.41832229580574\n",
      "GradientBoostingClassifier: 83.38852097130243\n",
      "ExtraTreesClassifier: 52.51103752759382\n",
      "GaussianNB: 5.077262693156733\n",
      "AdaBoostClassifier: 5.380794701986755\n"
     ]
    }
   ],
   "source": [
    "from sklearn.preprocessing import StandardScaler\n",
    "from sklearn.pipeline import Pipeline\n",
    "from sklearn.metrics import accuracy_score\n",
    "\n",
    "\n",
    "for name, model in classification_models.items():\n",
    "    \n",
    "    steps = [\n",
    "        ('scaler', StandardScaler()),\n",
    "        (name, model)\n",
    "    ]\n",
    "    \n",
    "    pipeline = Pipeline(steps)\n",
    "    pipeline.fit(xc_train, yc_train)\n",
    "    y_pred = pipeline.predict(xc_test)\n",
    "    \n",
    "    print('{}: {}'.format(name, accuracy_score(yc_test, y_pred)*100))"
   ]
  },
  {
   "cell_type": "code",
   "execution_count": null,
   "id": "76229ec3",
   "metadata": {},
   "outputs": [],
   "source": []
  },
  {
   "cell_type": "code",
   "execution_count": 82,
   "id": "e18d4328",
   "metadata": {},
   "outputs": [
    {
     "name": "stdout",
     "output_type": "stream",
     "text": [
      "KNeighboursClassfier: 77.2626931567329\n",
      "DecisionTreeClassifier: 5.32560706401766\n",
      "Support Vector Machine (rbf): 78.33885209713024\n",
      "Random Forest: 91.19757174392936\n",
      "GradientBoostingClassifier: 83.77483443708608\n",
      "ExtraTreesClassifier: 52.51103752759382\n",
      "GaussianNB: 5.077262693156733\n",
      "AdaBoostClassifier: 5.380794701986755\n"
     ]
    }
   ],
   "source": [
    "from sklearn.preprocessing import StandardScaler\n",
    "from sklearn.pipeline import Pipeline\n",
    "from sklearn.metrics import accuracy_score\n",
    "\n",
    "\n",
    "for name, model in classification_models.items():\n",
    "    \n",
    "    steps = [\n",
    "        ('scaler', StandardScaler()),\n",
    "        (name, model)\n",
    "    ]\n",
    "    \n",
    "    pipeline = Pipeline(steps)\n",
    "    pipeline.fit(xc_train, yc_train)\n",
    "    y_pred = pipeline.predict(xc_test)\n",
    "    \n",
    "    print('{}: {}'.format(name, accuracy_score(yc_test, y_pred)*100))"
   ]
  },
  {
   "cell_type": "markdown",
   "id": "9e99d33b",
   "metadata": {},
   "source": [
    "# We can say that Random Forest is the best model with around 91.5% Accuracy"
   ]
  },
  {
   "cell_type": "code",
   "execution_count": null,
   "id": "a41eb96c",
   "metadata": {},
   "outputs": [],
   "source": []
  },
  {
   "cell_type": "code",
   "execution_count": null,
   "id": "339a130a",
   "metadata": {},
   "outputs": [],
   "source": []
  },
  {
   "cell_type": "code",
   "execution_count": null,
   "id": "b578f537",
   "metadata": {},
   "outputs": [],
   "source": []
  },
  {
   "cell_type": "code",
   "execution_count": null,
   "id": "e9cf4fc0",
   "metadata": {},
   "outputs": [],
   "source": []
  },
  {
   "cell_type": "code",
   "execution_count": null,
   "id": "02aa1676",
   "metadata": {},
   "outputs": [],
   "source": []
  },
  {
   "cell_type": "code",
   "execution_count": null,
   "id": "4ed34c4f",
   "metadata": {},
   "outputs": [],
   "source": []
  },
  {
   "cell_type": "code",
   "execution_count": null,
   "id": "80443526",
   "metadata": {},
   "outputs": [],
   "source": []
  },
  {
   "cell_type": "code",
   "execution_count": null,
   "id": "6fe907f0",
   "metadata": {},
   "outputs": [],
   "source": []
  },
  {
   "cell_type": "code",
   "execution_count": null,
   "id": "ffad2983",
   "metadata": {},
   "outputs": [],
   "source": []
  },
  {
   "cell_type": "code",
   "execution_count": null,
   "id": "a43ff634",
   "metadata": {},
   "outputs": [],
   "source": []
  },
  {
   "cell_type": "code",
   "execution_count": null,
   "id": "00c9085d",
   "metadata": {},
   "outputs": [],
   "source": []
  },
  {
   "cell_type": "code",
   "execution_count": null,
   "id": "18f0f4a8",
   "metadata": {},
   "outputs": [],
   "source": []
  },
  {
   "cell_type": "code",
   "execution_count": null,
   "id": "48f1da1d",
   "metadata": {},
   "outputs": [],
   "source": []
  },
  {
   "cell_type": "code",
   "execution_count": null,
   "id": "e3b2e0db",
   "metadata": {},
   "outputs": [],
   "source": []
  },
  {
   "cell_type": "code",
   "execution_count": null,
   "id": "40efcf9c",
   "metadata": {},
   "outputs": [],
   "source": []
  },
  {
   "cell_type": "code",
   "execution_count": null,
   "id": "c53f5944",
   "metadata": {},
   "outputs": [],
   "source": []
  },
  {
   "cell_type": "code",
   "execution_count": null,
   "id": "c55b2e0a",
   "metadata": {},
   "outputs": [],
   "source": []
  },
  {
   "cell_type": "code",
   "execution_count": null,
   "id": "73911342",
   "metadata": {},
   "outputs": [],
   "source": []
  },
  {
   "cell_type": "code",
   "execution_count": null,
   "id": "b4a82a80",
   "metadata": {},
   "outputs": [],
   "source": []
  },
  {
   "cell_type": "code",
   "execution_count": null,
   "id": "2e297e38",
   "metadata": {},
   "outputs": [],
   "source": []
  },
  {
   "cell_type": "code",
   "execution_count": null,
   "id": "9c8671d1",
   "metadata": {},
   "outputs": [],
   "source": []
  },
  {
   "cell_type": "code",
   "execution_count": null,
   "id": "5a8f2165",
   "metadata": {},
   "outputs": [],
   "source": []
  },
  {
   "cell_type": "code",
   "execution_count": null,
   "id": "13fbf6b2",
   "metadata": {},
   "outputs": [],
   "source": []
  },
  {
   "cell_type": "code",
   "execution_count": null,
   "id": "583981c2",
   "metadata": {},
   "outputs": [],
   "source": []
  },
  {
   "cell_type": "code",
   "execution_count": null,
   "id": "86630b82",
   "metadata": {},
   "outputs": [],
   "source": []
  },
  {
   "cell_type": "code",
   "execution_count": null,
   "id": "baa39d91",
   "metadata": {},
   "outputs": [],
   "source": []
  }
 ],
 "metadata": {
  "kernelspec": {
   "display_name": "Python 3",
   "language": "python",
   "name": "python3"
  },
  "language_info": {
   "codemirror_mode": {
    "name": "ipython",
    "version": 3
   },
   "file_extension": ".py",
   "mimetype": "text/x-python",
   "name": "python",
   "nbconvert_exporter": "python",
   "pygments_lexer": "ipython3",
   "version": "3.8.8"
  }
 },
 "nbformat": 4,
 "nbformat_minor": 5
}
